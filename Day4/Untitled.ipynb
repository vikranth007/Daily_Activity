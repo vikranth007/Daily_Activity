{
 "cells": [
  {
   "cell_type": "code",
   "execution_count": 1,
   "id": "d1927f69-0d5b-469c-8eb4-433da8c1c639",
   "metadata": {},
   "outputs": [],
   "source": [
    "import torch"
   ]
  },
  {
   "cell_type": "markdown",
   "id": "2f019dfe-cee0-4b8a-b042-ea4aa630bfda",
   "metadata": {},
   "source": [
    "## Rehshaping , stacking , squeezing and unsqueezing tensor\n",
    "\n",
    "* Reshaping - rehshapes as input to defined shape\n",
    "* View - Return a view of an input tensor of certain shape but keep the same memory as the original tensor\n",
    "* Stacking - combine multiple  tensors on top of each other (vstack) or side by side\n",
    "* Squeeze - removes all `1` dimensions from a tensor\n",
    "* Unsqueeze -  add a `1` dimension to target tensor\n",
    "* Permute - Return a view of the inpit with dimensions permuted in certain way"
   ]
  },
  {
   "cell_type": "code",
   "execution_count": 34,
   "id": "e033d229-773b-48a4-a7d6-41215e719fc4",
   "metadata": {},
   "outputs": [
    {
     "data": {
      "text/plain": [
       "(tensor([1., 2., 3., 4., 5., 6., 7., 8., 9.]), torch.Size([9]))"
      ]
     },
     "execution_count": 34,
     "metadata": {},
     "output_type": "execute_result"
    }
   ],
   "source": [
    "# create tensor\n",
    "x = torch.arange(1., 10.)\n",
    "x, x.shape"
   ]
  },
  {
   "cell_type": "code",
   "execution_count": 35,
   "id": "dc45ff30-dd47-4413-8ba6-d47dc499e16b",
   "metadata": {},
   "outputs": [
    {
     "data": {
      "text/plain": [
       "(tensor([[1., 2., 3., 4., 5., 6., 7., 8., 9.]]), torch.Size([1, 9]))"
      ]
     },
     "execution_count": 35,
     "metadata": {},
     "output_type": "execute_result"
    }
   ],
   "source": [
    "x_reshaped = x.reshape(1, 9)\n",
    "x_reshaped, x_reshaped.shape"
   ]
  },
  {
   "cell_type": "code",
   "execution_count": 20,
   "id": "d5df0a69-b6f5-44a2-bafd-62be4d102721",
   "metadata": {},
   "outputs": [
    {
     "data": {
      "text/plain": [
       "torch.Size([1, 9])"
      ]
     },
     "execution_count": 20,
     "metadata": {},
     "output_type": "execute_result"
    }
   ],
   "source": [
    "z = x.view(1, 9)\n",
    "z.shape"
   ]
  },
  {
   "cell_type": "code",
   "execution_count": 23,
   "id": "55751e44-18e1-48ae-9e3d-1863c51c04ee",
   "metadata": {},
   "outputs": [
    {
     "data": {
      "text/plain": [
       "(tensor([[5., 2., 3., 4., 5., 6., 7., 8., 9.]]),\n",
       " tensor([5., 2., 3., 4., 5., 6., 7., 8., 9.]))"
      ]
     },
     "execution_count": 23,
     "metadata": {},
     "output_type": "execute_result"
    }
   ],
   "source": [
    "z[:,0] = 5\n",
    "z, x"
   ]
  },
  {
   "cell_type": "code",
   "execution_count": 26,
   "id": "926d8724-83b4-498e-8a92-530401396a7b",
   "metadata": {},
   "outputs": [
    {
     "data": {
      "text/plain": [
       "tensor([[5., 2., 3., 4., 5., 6., 7., 8., 9.],\n",
       "        [5., 2., 3., 4., 5., 6., 7., 8., 9.],\n",
       "        [5., 2., 3., 4., 5., 6., 7., 8., 9.],\n",
       "        [5., 2., 3., 4., 5., 6., 7., 8., 9.]])"
      ]
     },
     "execution_count": 26,
     "metadata": {},
     "output_type": "execute_result"
    }
   ],
   "source": [
    "# stack tensor\n",
    "x_stack = torch.stack([x, x, x, x],dim=0)\n",
    "x_stack"
   ]
  },
  {
   "cell_type": "code",
   "execution_count": 27,
   "id": "8a9fef8f-3e4f-45c9-8c4f-06bdcf212cbf",
   "metadata": {},
   "outputs": [
    {
     "data": {
      "text/plain": [
       "torch.Size([2, 1, 2, 1, 2])"
      ]
     },
     "execution_count": 27,
     "metadata": {},
     "output_type": "execute_result"
    }
   ],
   "source": [
    "x = torch.zeros(2, 1, 2, 1, 2)\n",
    "x.size() "
   ]
  },
  {
   "cell_type": "code",
   "execution_count": 29,
   "id": "aae6eafe-0b13-4547-9044-8795f507a5a7",
   "metadata": {},
   "outputs": [
    {
     "data": {
      "text/plain": [
       "tensor([[[0., 0.],\n",
       "         [0., 0.]],\n",
       "\n",
       "        [[0., 0.],\n",
       "         [0., 0.]]])"
      ]
     },
     "execution_count": 29,
     "metadata": {},
     "output_type": "execute_result"
    }
   ],
   "source": [
    "y = torch.squeeze(x)\n",
    "y"
   ]
  },
  {
   "cell_type": "code",
   "execution_count": 30,
   "id": "ec0c5b17-427b-4a0d-a907-c298784d77f6",
   "metadata": {},
   "outputs": [
    {
     "data": {
      "text/plain": [
       "torch.Size([2, 2, 2])"
      ]
     },
     "execution_count": 30,
     "metadata": {},
     "output_type": "execute_result"
    }
   ],
   "source": [
    "y.shape"
   ]
  },
  {
   "cell_type": "code",
   "execution_count": 37,
   "id": "2c945134-ef0a-40d4-8e3e-82e1b01e059a",
   "metadata": {},
   "outputs": [
    {
     "name": "stdout",
     "output_type": "stream",
     "text": [
      "Previous tensor: tensor([[1., 2., 3., 4., 5., 6., 7., 8., 9.]])\n",
      "Previous tensor : torch.Size([1, 9])\n",
      "\n",
      "New tensor: tensor([1., 2., 3., 4., 5., 6., 7., 8., 9.])\n",
      "new shape:torch.Size([9])\n"
     ]
    }
   ],
   "source": [
    "print(f\"Previous tensor: {x_reshaped}\")\n",
    "print(f\"Previous tensor : {x_reshaped.shape}\")\n",
    "\n",
    "x_squeeze = x_reshaped.squeeze()\n",
    "print(f\"\\nNew tensor: {x_squeeze}\")\n",
    "print(f\"new shape:{x_squeeze.shape}\")"
   ]
  },
  {
   "cell_type": "code",
   "execution_count": 44,
   "id": "7dfb8e17-19bc-47ce-9721-cd34e7ca005b",
   "metadata": {},
   "outputs": [
    {
     "name": "stdout",
     "output_type": "stream",
     "text": [
      "previous target : tensor([1., 2., 3., 4., 5., 6., 7., 8., 9.])\n",
      "\n",
      "previious shape : torch.Size([9])\n",
      "\n",
      "New tensor: tensor([[1., 2., 3., 4., 5., 6., 7., 8., 9.]])\n",
      "\n",
      "New shape: torch.Size([1, 9])\n"
     ]
    }
   ],
   "source": [
    "print(f\"previous target : {x_squeeze}\")\n",
    "print(f\"\\npreviious shape : {x_squeeze.shape}\")\n",
    "\n",
    "x_unsqueezed = x_squeeze.unsqueeze(dim=0)\n",
    "\n",
    "print(f\"\\nNew tensor: {x_unsqueezed}\")\n",
    "print(f\"\\nNew shape: {x_unsqueezed.shape}\")"
   ]
  },
  {
   "cell_type": "code",
   "execution_count": 46,
   "id": "807eb88e-015a-49c1-90f4-a47c8da3c6ba",
   "metadata": {},
   "outputs": [
    {
     "name": "stdout",
     "output_type": "stream",
     "text": [
      "Previous target : torch.Size([224, 224, 3])\n",
      "\n",
      "New shape:torch.Size([3, 224, 224])\n"
     ]
    }
   ],
   "source": [
    "# torch.permute - rearrange the dimensions of target pf a target tensor in a specify order\n",
    "\n",
    "x_original = torch.rand(size=(224, 224, 3)) # [height, width, color channels]\n",
    "\n",
    "x_permuted = x_original.permute(2, 0, 1) # shift axis 0 ->1, 1->2, 2->0\n",
    "\n",
    "print(f\"Previous target : {x_original.shape}\")\n",
    "print(f\"\\nNew shape:{x_permuted.shape}\")"
   ]
  }
 ],
 "metadata": {
  "kernelspec": {
   "display_name": "Python [conda env:base] *",
   "language": "python",
   "name": "conda-base-py"
  },
  "language_info": {
   "codemirror_mode": {
    "name": "ipython",
    "version": 3
   },
   "file_extension": ".py",
   "mimetype": "text/x-python",
   "name": "python",
   "nbconvert_exporter": "python",
   "pygments_lexer": "ipython3",
   "version": "3.12.7"
  }
 },
 "nbformat": 4,
 "nbformat_minor": 5
}
