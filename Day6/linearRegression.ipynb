{
 "cells": [
  {
   "cell_type": "markdown",
   "id": "5425f196",
   "metadata": {},
   "source": [
    "### Create a Linear Regression Model using for pytorch"
   ]
  },
  {
   "cell_type": "code",
   "id": "4d6987db",
   "metadata": {
    "ExecuteTime": {
     "end_time": "2025-05-31T05:03:00.452013Z",
     "start_time": "2025-05-31T05:03:00.444626Z"
    }
   },
   "source": [
    "import os\n",
    "from statistics import linear_regression\n",
    "\n",
    "os.environ[\"KMP_DUPLICATE_LIB_OK\"] = \"TRUE\"\n"
   ],
   "outputs": [],
   "execution_count": 103
  },
  {
   "cell_type": "code",
   "id": "7f09bf81",
   "metadata": {
    "ExecuteTime": {
     "end_time": "2025-05-31T05:03:00.466271Z",
     "start_time": "2025-05-31T05:03:00.459739Z"
    }
   },
   "source": [
    "import torch\n",
    "from torch import nn\n",
    "import matplotlib.pyplot as plt\n"
   ],
   "outputs": [],
   "execution_count": 104
  },
  {
   "metadata": {
    "ExecuteTime": {
     "end_time": "2025-05-31T05:03:00.476806Z",
     "start_time": "2025-05-31T05:03:00.470528Z"
    }
   },
   "cell_type": "code",
   "source": "device = \"cuda\" if torch.cuda.is_available() else \"cpu\"",
   "id": "3d793abd3966159d",
   "outputs": [],
   "execution_count": 105
  },
  {
   "metadata": {
    "ExecuteTime": {
     "end_time": "2025-05-31T05:03:00.490568Z",
     "start_time": "2025-05-31T05:03:00.480611Z"
    }
   },
   "cell_type": "code",
   "source": "device",
   "id": "c4b49c6aa648b397",
   "outputs": [
    {
     "data": {
      "text/plain": [
       "'cuda'"
      ]
     },
     "execution_count": 106,
     "metadata": {},
     "output_type": "execute_result"
    }
   ],
   "execution_count": 106
  },
  {
   "cell_type": "markdown",
   "id": "cd12e674",
   "metadata": {},
   "source": [
    "### LinearRegression Formula:  $ y = weights * x + bias $ "
   ]
  },
  {
   "cell_type": "code",
   "id": "0715a764",
   "metadata": {
    "ExecuteTime": {
     "end_time": "2025-05-31T05:03:00.509122Z",
     "start_time": "2025-05-31T05:03:00.498918Z"
    }
   },
   "source": [
    "weight = 0.7\n",
    "bias = 0.3\n",
    "\n",
    "# create range values\n",
    "start = 0\n",
    "end = 1\n",
    "step = 0.02\n",
    "\n",
    "# Create X and Y (features and labels)\n",
    "X = torch.arange(start, end, step).unsqueeze(dim=1)\n",
    "y = weight * X + bias\n",
    "\n",
    "X[:10], y[:10]"
   ],
   "outputs": [
    {
     "data": {
      "text/plain": [
       "(tensor([[0.0000],\n",
       "         [0.0200],\n",
       "         [0.0400],\n",
       "         [0.0600],\n",
       "         [0.0800],\n",
       "         [0.1000],\n",
       "         [0.1200],\n",
       "         [0.1400],\n",
       "         [0.1600],\n",
       "         [0.1800]]),\n",
       " tensor([[0.3000],\n",
       "         [0.3140],\n",
       "         [0.3280],\n",
       "         [0.3420],\n",
       "         [0.3560],\n",
       "         [0.3700],\n",
       "         [0.3840],\n",
       "         [0.3980],\n",
       "         [0.4120],\n",
       "         [0.4260]]))"
      ]
     },
     "execution_count": 107,
     "metadata": {},
     "output_type": "execute_result"
    }
   ],
   "execution_count": 107
  },
  {
   "cell_type": "code",
   "id": "5db39e1b",
   "metadata": {
    "ExecuteTime": {
     "end_time": "2025-05-31T05:03:00.521445Z",
     "start_time": "2025-05-31T05:03:00.514290Z"
    }
   },
   "source": [
    "# split the data\n",
    "train_split = int(0.8 * len(X))\n",
    "X_train, y_train = X[:train_split], y[:train_split]\n",
    "X_test, y_test = X[train_split:], y[train_split:]"
   ],
   "outputs": [],
   "execution_count": 108
  },
  {
   "cell_type": "code",
   "id": "1af4d8de",
   "metadata": {
    "ExecuteTime": {
     "end_time": "2025-05-31T05:03:00.534882Z",
     "start_time": "2025-05-31T05:03:00.529838Z"
    }
   },
   "source": [
    "len(X_train), len(y_train), len(X_test), len(y_test)"
   ],
   "outputs": [
    {
     "data": {
      "text/plain": [
       "(40, 40, 10, 10)"
      ]
     },
     "execution_count": 109,
     "metadata": {},
     "output_type": "execute_result"
    }
   ],
   "execution_count": 109
  },
  {
   "cell_type": "code",
   "id": "03a0bad8",
   "metadata": {
    "ExecuteTime": {
     "end_time": "2025-05-31T05:03:00.549019Z",
     "start_time": "2025-05-31T05:03:00.542193Z"
    }
   },
   "source": [
    "def plot_predictions(train_data = X_train, train_labels=y_train, test_data=X_test, test_labels=y_test,predictions=None):\n",
    "    plt.figure(figsize=(10, 7))\n",
    "    plt.scatter(train_data, train_labels, c='b', s=4, label=\"Training_data\")\n",
    "\n",
    "    plt.scatter(test_data, test_labels, c='g', s=4, label=\"Testing_data\")\n",
    "\n",
    "    if predictions is not None:\n",
    "        plt.scatter(test_data, predictions, c='r', s=4, label='predictions')\n",
    "    plt.legend()\n",
    "    plt.show()\n"
   ],
   "outputs": [],
   "execution_count": 110
  },
  {
   "cell_type": "code",
   "id": "138fa332",
   "metadata": {
    "ExecuteTime": {
     "end_time": "2025-05-31T05:03:00.650033Z",
     "start_time": "2025-05-31T05:03:00.557543Z"
    }
   },
   "source": [
    "plot_predictions(X_train, y_train, X_test, y_test)"
   ],
   "outputs": [
    {
     "data": {
      "text/plain": [
       "<Figure size 1000x700 with 1 Axes>"
      ],
      "image/png": "[encoded data removed]"
     },
     "metadata": {},
     "output_type": "display_data"
    }
   ],
   "execution_count": 111
  },
  {
   "cell_type": "code",
   "id": "e5629d77",
   "metadata": {
    "ExecuteTime": {
     "end_time": "2025-05-31T05:03:00.671207Z",
     "start_time": "2025-05-31T05:03:00.660015Z"
    }
   },
   "source": [
    "### create a linear model\n",
    "\n",
    "class LinearRegressionModel(nn.Module):\n",
    "    def __init__(self):\n",
    "        super().__init__()\n",
    "        self.linear_layer = nn.Linear(in_features=1, out_features=1)\n",
    "    \n",
    "    def forward (self, X):\n",
    "        return self.linear_layer(X)\n",
    "\n",
    "\n",
    "\n",
    "\n",
    "torch.manual_seed(42)\n",
    "model = LinearRegressionModel()\n",
    "model, model.state_dict()"
   ],
   "outputs": [
    {
     "data": {
      "text/plain": [
       "(LinearRegressionModel(\n",
       "   (linear_layer): Linear(in_features=1, out_features=1, bias=True)\n",
       " ),\n",
       " OrderedDict([('linear_layer.weight', tensor([[0.7645]])),\n",
       "              ('linear_layer.bias', tensor([0.8300]))]))"
      ]
     },
     "execution_count": 112,
     "metadata": {},
     "output_type": "execute_result"
    }
   ],
   "execution_count": 112
  },
  {
   "cell_type": "code",
   "id": "ce1b7d0c",
   "metadata": {
    "ExecuteTime": {
     "end_time": "2025-05-31T05:03:00.691658Z",
     "start_time": "2025-05-31T05:03:00.681433Z"
    }
   },
   "source": [
    "next(model.parameters()).device"
   ],
   "outputs": [
    {
     "data": {
      "text/plain": [
       "device(type='cpu')"
      ]
     },
     "execution_count": 113,
     "metadata": {},
     "output_type": "execute_result"
    }
   ],
   "execution_count": 113
  },
  {
   "metadata": {
    "ExecuteTime": {
     "end_time": "2025-05-31T05:03:00.705987Z",
     "start_time": "2025-05-31T05:03:00.698747Z"
    }
   },
   "cell_type": "code",
   "source": "model = model.to(device)",
   "id": "7020af5181707be7",
   "outputs": [],
   "execution_count": 114
  },
  {
   "metadata": {
    "ExecuteTime": {
     "end_time": "2025-05-31T05:03:00.724399Z",
     "start_time": "2025-05-31T05:03:00.720050Z"
    }
   },
   "cell_type": "code",
   "source": "next(model.parameters()).device",
   "id": "be231c017be1bb07",
   "outputs": [
    {
     "data": {
      "text/plain": [
       "device(type='cuda', index=0)"
      ]
     },
     "execution_count": 115,
     "metadata": {},
     "output_type": "execute_result"
    }
   ],
   "execution_count": 115
  },
  {
   "metadata": {},
   "cell_type": "markdown",
   "source": "## Training",
   "id": "b0dd86952a559120"
  },
  {
   "metadata": {
    "ExecuteTime": {
     "end_time": "2025-05-31T05:03:00.746854Z",
     "start_time": "2025-05-31T05:03:00.740788Z"
    }
   },
   "cell_type": "code",
   "source": [
    "# create loss function\n",
    "\n",
    "loss_fn = nn.L1Loss()\n",
    "\n",
    "# create optimizer\n",
    "optimizer = torch.optim.SGD(params=model.parameters(), lr=0.01)"
   ],
   "id": "9f82907aecfdc307",
   "outputs": [],
   "execution_count": 116
  },
  {
   "metadata": {
    "ExecuteTime": {
     "end_time": "2025-05-31T05:03:01.533573Z",
     "start_time": "2025-05-31T05:03:00.756402Z"
    }
   },
   "cell_type": "code",
   "source": [
    "torch.manual_seed(42)\n",
    "\n",
    "epochs = 1000\n",
    "\n",
    "X_train = X_train.to(device)\n",
    "y_train = y_train.to(device)\n",
    "X_test = X_test.to(device)\n",
    "y_test = y_test.to(device)\n",
    "\n",
    "for epoch in range(epochs):\n",
    "    # training\n",
    "    model.train()\n",
    "\n",
    "    # 2. forward pass\n",
    "    y_pred = model(X_train)\n",
    "\n",
    "    # 3. calculate the loss\n",
    "    train_loss = loss_fn(y_pred, y_train)\n",
    "\n",
    "    # 4.zero grad optimizer\n",
    "    optimizer.zero_grad()\n",
    "    # loss backward\n",
    "    train_loss.backward()\n",
    "    # step optimizer\n",
    "    optimizer.step()\n",
    "\n",
    "    # testing\n",
    "    model.eval()\n",
    "    with torch.no_grad():\n",
    "        y_pred = model(X_test)\n",
    "        loss = loss_fn(y_pred, y_test)\n",
    "\n",
    "    if epoch % 10 == 0:\n",
    "        print(f'epoch: {epoch} | train_loss: {train_loss} | Test loss: {loss}')\n",
    "\n"
   ],
   "id": "ac4ee5b8ced73758",
   "outputs": [
    {
     "name": "stdout",
     "output_type": "stream",
     "text": [
      "epoch: 0 | train_loss: 0.5551779866218567 | Test loss: 0.5739762187004089\n",
      "epoch: 10 | train_loss: 0.439968079328537 | Test loss: 0.4392664134502411\n",
      "epoch: 20 | train_loss: 0.3247582018375397 | Test loss: 0.30455657839775085\n",
      "epoch: 30 | train_loss: 0.20954833924770355 | Test loss: 0.16984669864177704\n",
      "epoch: 40 | train_loss: 0.09433845430612564 | Test loss: 0.03513690456748009\n",
      "epoch: 50 | train_loss: 0.023886388167738914 | Test loss: 0.04784907028079033\n",
      "epoch: 60 | train_loss: 0.019956795498728752 | Test loss: 0.045803118497133255\n",
      "epoch: 70 | train_loss: 0.016517987474799156 | Test loss: 0.037530567497015\n",
      "epoch: 80 | train_loss: 0.013089174404740334 | Test loss: 0.02994490973651409\n",
      "epoch: 90 | train_loss: 0.009653178043663502 | Test loss: 0.02167237363755703\n",
      "epoch: 100 | train_loss: 0.006215683650225401 | Test loss: 0.014086711220443249\n",
      "epoch: 110 | train_loss: 0.00278724217787385 | Test loss: 0.005814164876937866\n",
      "epoch: 120 | train_loss: 0.0012645035749301314 | Test loss: 0.013801801018416882\n",
      "epoch: 130 | train_loss: 0.0012645035749301314 | Test loss: 0.013801801018416882\n",
      "epoch: 140 | train_loss: 0.0012645035749301314 | Test loss: 0.013801801018416882\n",
      "epoch: 150 | train_loss: 0.0012645035749301314 | Test loss: 0.013801801018416882\n",
      "epoch: 160 | train_loss: 0.0012645035749301314 | Test loss: 0.013801801018416882\n",
      "epoch: 170 | train_loss: 0.0012645035749301314 | Test loss: 0.013801801018416882\n",
      "epoch: 180 | train_loss: 0.0012645035749301314 | Test loss: 0.013801801018416882\n",
      "epoch: 190 | train_loss: 0.0012645035749301314 | Test loss: 0.013801801018416882\n",
      "epoch: 200 | train_loss: 0.0012645035749301314 | Test loss: 0.013801801018416882\n",
      "epoch: 210 | train_loss: 0.0012645035749301314 | Test loss: 0.013801801018416882\n",
      "epoch: 220 | train_loss: 0.0012645035749301314 | Test loss: 0.013801801018416882\n",
      "epoch: 230 | train_loss: 0.0012645035749301314 | Test loss: 0.013801801018416882\n",
      "epoch: 240 | train_loss: 0.0012645035749301314 | Test loss: 0.013801801018416882\n",
      "epoch: 250 | train_loss: 0.0012645035749301314 | Test loss: 0.013801801018416882\n",
      "epoch: 260 | train_loss: 0.0012645035749301314 | Test loss: 0.013801801018416882\n",
      "epoch: 270 | train_loss: 0.0012645035749301314 | Test loss: 0.013801801018416882\n",
      "epoch: 280 | train_loss: 0.0012645035749301314 | Test loss: 0.013801801018416882\n",
      "epoch: 290 | train_loss: 0.0012645035749301314 | Test loss: 0.013801801018416882\n",
      "epoch: 300 | train_loss: 0.0012645035749301314 | Test loss: 0.013801801018416882\n",
      "epoch: 310 | train_loss: 0.0012645035749301314 | Test loss: 0.013801801018416882\n",
      "epoch: 320 | train_loss: 0.0012645035749301314 | Test loss: 0.013801801018416882\n",
      "epoch: 330 | train_loss: 0.0012645035749301314 | Test loss: 0.013801801018416882\n",
      "epoch: 340 | train_loss: 0.0012645035749301314 | Test loss: 0.013801801018416882\n",
      "epoch: 350 | train_loss: 0.0012645035749301314 | Test loss: 0.013801801018416882\n",
      "epoch: 360 | train_loss: 0.0012645035749301314 | Test loss: 0.013801801018416882\n",
      "epoch: 370 | train_loss: 0.0012645035749301314 | Test loss: 0.013801801018416882\n",
      "epoch: 380 | train_loss: 0.0012645035749301314 | Test loss: 0.013801801018416882\n",
      "epoch: 390 | train_loss: 0.0012645035749301314 | Test loss: 0.013801801018416882\n",
      "epoch: 400 | train_loss: 0.0012645035749301314 | Test loss: 0.013801801018416882\n",
      "epoch: 410 | train_loss: 0.0012645035749301314 | Test loss: 0.013801801018416882\n",
      "epoch: 420 | train_loss: 0.0012645035749301314 | Test loss: 0.013801801018416882\n",
      "epoch: 430 | train_loss: 0.0012645035749301314 | Test loss: 0.013801801018416882\n",
      "epoch: 440 | train_loss: 0.0012645035749301314 | Test loss: 0.013801801018416882\n",
      "epoch: 450 | train_loss: 0.0012645035749301314 | Test loss: 0.013801801018416882\n",
      "epoch: 460 | train_loss: 0.0012645035749301314 | Test loss: 0.013801801018416882\n",
      "epoch: 470 | train_loss: 0.0012645035749301314 | Test loss: 0.013801801018416882\n",
      "epoch: 480 | train_loss: 0.0012645035749301314 | Test loss: 0.013801801018416882\n",
      "epoch: 490 | train_loss: 0.0012645035749301314 | Test loss: 0.013801801018416882\n",
      "epoch: 500 | train_loss: 0.0012645035749301314 | Test loss: 0.013801801018416882\n",
      "epoch: 510 | train_loss: 0.0012645035749301314 | Test loss: 0.013801801018416882\n",
      "epoch: 520 | train_loss: 0.0012645035749301314 | Test loss: 0.013801801018416882\n",
      "epoch: 530 | train_loss: 0.0012645035749301314 | Test loss: 0.013801801018416882\n",
      "epoch: 540 | train_loss: 0.0012645035749301314 | Test loss: 0.013801801018416882\n",
      "epoch: 550 | train_loss: 0.0012645035749301314 | Test loss: 0.013801801018416882\n",
      "epoch: 560 | train_loss: 0.0012645035749301314 | Test loss: 0.013801801018416882\n",
      "epoch: 570 | train_loss: 0.0012645035749301314 | Test loss: 0.013801801018416882\n",
      "epoch: 580 | train_loss: 0.0012645035749301314 | Test loss: 0.013801801018416882\n",
      "epoch: 590 | train_loss: 0.0012645035749301314 | Test loss: 0.013801801018416882\n",
      "epoch: 600 | train_loss: 0.0012645035749301314 | Test loss: 0.013801801018416882\n",
      "epoch: 610 | train_loss: 0.0012645035749301314 | Test loss: 0.013801801018416882\n",
      "epoch: 620 | train_loss: 0.0012645035749301314 | Test loss: 0.013801801018416882\n",
      "epoch: 630 | train_loss: 0.0012645035749301314 | Test loss: 0.013801801018416882\n",
      "epoch: 640 | train_loss: 0.0012645035749301314 | Test loss: 0.013801801018416882\n",
      "epoch: 650 | train_loss: 0.0012645035749301314 | Test loss: 0.013801801018416882\n",
      "epoch: 660 | train_loss: 0.0012645035749301314 | Test loss: 0.013801801018416882\n",
      "epoch: 670 | train_loss: 0.0012645035749301314 | Test loss: 0.013801801018416882\n",
      "epoch: 680 | train_loss: 0.0012645035749301314 | Test loss: 0.013801801018416882\n",
      "epoch: 690 | train_loss: 0.0012645035749301314 | Test loss: 0.013801801018416882\n",
      "epoch: 700 | train_loss: 0.0012645035749301314 | Test loss: 0.013801801018416882\n",
      "epoch: 710 | train_loss: 0.0012645035749301314 | Test loss: 0.013801801018416882\n",
      "epoch: 720 | train_loss: 0.0012645035749301314 | Test loss: 0.013801801018416882\n",
      "epoch: 730 | train_loss: 0.0012645035749301314 | Test loss: 0.013801801018416882\n",
      "epoch: 740 | train_loss: 0.0012645035749301314 | Test loss: 0.013801801018416882\n",
      "epoch: 750 | train_loss: 0.0012645035749301314 | Test loss: 0.013801801018416882\n",
      "epoch: 760 | train_loss: 0.0012645035749301314 | Test loss: 0.013801801018416882\n",
      "epoch: 770 | train_loss: 0.0012645035749301314 | Test loss: 0.013801801018416882\n",
      "epoch: 780 | train_loss: 0.0012645035749301314 | Test loss: 0.013801801018416882\n",
      "epoch: 790 | train_loss: 0.0012645035749301314 | Test loss: 0.013801801018416882\n",
      "epoch: 800 | train_loss: 0.0012645035749301314 | Test loss: 0.013801801018416882\n",
      "epoch: 810 | train_loss: 0.0012645035749301314 | Test loss: 0.013801801018416882\n",
      "epoch: 820 | train_loss: 0.0012645035749301314 | Test loss: 0.013801801018416882\n",
      "epoch: 830 | train_loss: 0.0012645035749301314 | Test loss: 0.013801801018416882\n",
      "epoch: 840 | train_loss: 0.0012645035749301314 | Test loss: 0.013801801018416882\n",
      "epoch: 850 | train_loss: 0.0012645035749301314 | Test loss: 0.013801801018416882\n",
      "epoch: 860 | train_loss: 0.0012645035749301314 | Test loss: 0.013801801018416882\n",
      "epoch: 870 | train_loss: 0.0012645035749301314 | Test loss: 0.013801801018416882\n",
      "epoch: 880 | train_loss: 0.0012645035749301314 | Test loss: 0.013801801018416882\n",
      "epoch: 890 | train_loss: 0.0012645035749301314 | Test loss: 0.013801801018416882\n",
      "epoch: 900 | train_loss: 0.0012645035749301314 | Test loss: 0.013801801018416882\n",
      "epoch: 910 | train_loss: 0.0012645035749301314 | Test loss: 0.013801801018416882\n",
      "epoch: 920 | train_loss: 0.0012645035749301314 | Test loss: 0.013801801018416882\n",
      "epoch: 930 | train_loss: 0.0012645035749301314 | Test loss: 0.013801801018416882\n",
      "epoch: 940 | train_loss: 0.0012645035749301314 | Test loss: 0.013801801018416882\n",
      "epoch: 950 | train_loss: 0.0012645035749301314 | Test loss: 0.013801801018416882\n",
      "epoch: 960 | train_loss: 0.0012645035749301314 | Test loss: 0.013801801018416882\n",
      "epoch: 970 | train_loss: 0.0012645035749301314 | Test loss: 0.013801801018416882\n",
      "epoch: 980 | train_loss: 0.0012645035749301314 | Test loss: 0.013801801018416882\n",
      "epoch: 990 | train_loss: 0.0012645035749301314 | Test loss: 0.013801801018416882\n"
     ]
    }
   ],
   "execution_count": 117
  },
  {
   "metadata": {
    "ExecuteTime": {
     "end_time": "2025-05-31T05:03:01.552592Z",
     "start_time": "2025-05-31T05:03:01.544588Z"
    }
   },
   "cell_type": "code",
   "source": [
    "model.eval()\n",
    "with torch.inference_mode():\n",
    "    y_pred = model(X_test)\n",
    "y_pred\n"
   ],
   "id": "cf6f2a022f84f316",
   "outputs": [
    {
     "data": {
      "text/plain": [
       "tensor([[0.8600],\n",
       "        [0.8739],\n",
       "        [0.8878],\n",
       "        [0.9018],\n",
       "        [0.9157],\n",
       "        [0.9296],\n",
       "        [0.9436],\n",
       "        [0.9575],\n",
       "        [0.9714],\n",
       "        [0.9854]], device='cuda:0')"
      ]
     },
     "execution_count": 118,
     "metadata": {},
     "output_type": "execute_result"
    }
   ],
   "execution_count": 118
  },
  {
   "metadata": {
    "ExecuteTime": {
     "end_time": "2025-05-31T05:03:01.659976Z",
     "start_time": "2025-05-31T05:03:01.562666Z"
    }
   },
   "cell_type": "code",
   "source": "plot_predictions(predictions=y_pred.cpu())",
   "id": "f2e68eea14f45d8d",
   "outputs": [
    {
     "data": {
      "text/plain": [
       "<Figure size 1000x700 with 1 Axes>"
      ],
      "image/png": "[encoded data removed]"
     },
     "metadata": {},
     "output_type": "display_data"
    }
   ],
   "execution_count": 119
  },
  {
   "metadata": {
    "ExecuteTime": {
     "end_time": "2025-05-31T05:03:01.676182Z",
     "start_time": "2025-05-31T05:03:01.669687Z"
    }
   },
   "cell_type": "code",
   "source": "torch.save(model.state_dict(), \"linear_regression.pth\")",
   "id": "15489e08ee1f3869",
   "outputs": [],
   "execution_count": 120
  },
  {
   "metadata": {
    "ExecuteTime": {
     "end_time": "2025-05-31T05:03:01.695093Z",
     "start_time": "2025-05-31T05:03:01.683147Z"
    }
   },
   "cell_type": "code",
   "source": "model.state_dict()",
   "id": "c6e03a741b19255e",
   "outputs": [
    {
     "data": {
      "text/plain": [
       "OrderedDict([('linear_layer.weight', tensor([[0.6968]], device='cuda:0')),\n",
       "             ('linear_layer.bias', tensor([0.3025], device='cuda:0'))])"
      ]
     },
     "execution_count": 121,
     "metadata": {},
     "output_type": "execute_result"
    }
   ],
   "execution_count": 121
  },
  {
   "metadata": {
    "ExecuteTime": {
     "end_time": "2025-05-31T05:06:09.350630Z",
     "start_time": "2025-05-31T05:06:09.332577Z"
    }
   },
   "cell_type": "code",
   "source": [
    "model = LinearRegressionModel()\n",
    "model.load_state_dict(torch.load(\"linear_regression.pth\"))\n",
    "model.eval()"
   ],
   "id": "3554dcef771ab2cf",
   "outputs": [
    {
     "name": "stderr",
     "output_type": "stream",
     "text": [
      "C:\\Users\\vikram\\AppData\\Local\\Temp\\ipykernel_22828\\1825598273.py:2: FutureWarning: You are using `torch.load` with `weights_only=False` (the current default value), which uses the default pickle module implicitly. It is possible to construct malicious pickle data which will execute arbitrary code during unpickling (See https://github.com/pytorch/pytorch/blob/main/SECURITY.md#untrusted-models for more details). In a future release, the default value for `weights_only` will be flipped to `True`. This limits the functions that could be executed during unpickling. Arbitrary objects will no longer be allowed to be loaded via this mode unless they are explicitly allowlisted by the user via `torch.serialization.add_safe_globals`. We recommend you start setting `weights_only=True` for any use case where you don't have full control of the loaded file. Please open an issue on GitHub for any issues related to this experimental feature.\n",
      "  model.load_state_dict(torch.load(\"linear_regression.pth\"))\n"
     ]
    },
    {
     "data": {
      "text/plain": [
       "LinearRegressionModel(\n",
       "  (linear_layer): Linear(in_features=1, out_features=1, bias=True)\n",
       ")"
      ]
     },
     "execution_count": 125,
     "metadata": {},
     "output_type": "execute_result"
    }
   ],
   "execution_count": 125
  }
 ],
 "metadata": {
  "kernelspec": {
   "display_name": "Python [conda env:base] *",
   "language": "python",
   "name": "conda-base-py"
  },
  "language_info": {
   "codemirror_mode": {
    "name": "ipython",
    "version": 3
   },
   "file_extension": ".py",
   "mimetype": "text/x-python",
   "name": "python",
   "nbconvert_exporter": "python",
   "pygments_lexer": "ipython3",
   "version": "3.12.7"
  }
 },
 "nbformat": 4,
 "nbformat_minor": 5
}
