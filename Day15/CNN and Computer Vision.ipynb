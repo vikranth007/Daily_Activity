{
 "cells": [
  {
   "cell_type": "markdown",
   "id": "ba4d4c40-c424-4283-8ef0-8ac19b680613",
   "metadata": {},
   "source": [
    "## Computer vision libraries in Pytorch\n",
    "\n",
    "\n",
    "* [torchvision](https://docs.pytorch.org/vision/stable/index.html)\n",
    "* `torchvision.datasets` - get datasets and data loading functions for computer vision\n",
    "* `torchvision.transform` - image -> Tensor\n",
    "* `torch.utils.data.Datasets` - Base datasets class for pytorch\n",
    "* `torch.utils.data.DataLoader`-Creates a python iterable over a datasets"
   ]
  },
  {
   "cell_type": "code",
   "execution_count": 14,
   "id": "62e188ec-c08b-4d56-a7eb-cf8d857bd2d8",
   "metadata": {},
   "outputs": [
    {
     "name": "stdout",
     "output_type": "stream",
     "text": [
      "2.5.1+cu121\n",
      "0.20.1+cu121\n"
     ]
    }
   ],
   "source": [
    "import torch\n",
    "from torch import nn\n",
    "\n",
    "import torchvision\n",
    "from torchvision import datasets\n",
    "from torchvision import transforms\n",
    "from torchvision.transforms import ToTensor\n",
    "\n",
    "\n",
    "# import matplotlib for visualization\n",
    "\n",
    "import matplotlib.pyplot as plt\n",
    "\n",
    "# check version\n",
    "\n",
    "print(torch.__version__)\n",
    "print(torchvision.__version__)\n",
    "\n"
   ]
  },
  {
   "cell_type": "code",
   "execution_count": null,
   "id": "d2a4528e-8ba0-4851-8050-3711ef29c148",
   "metadata": {},
   "outputs": [],
   "source": []
  },
  {
   "cell_type": "markdown",
   "id": "75913208",
   "metadata": {},
   "source": [
    "## Getting a  dataset\n",
    "\n",
    "the dataset well's be using is `FashionMNIST from torchvision.datasets `"
   ]
  },
  {
   "cell_type": "code",
   "execution_count": 15,
   "id": "c9585c94",
   "metadata": {},
   "outputs": [],
   "source": [
    "from torchvision  import datasets\n",
    "\n",
    "train_data = datasets.FashionMNIST(\n",
    "    root = \"data\",\n",
    "    train=True,\n",
    "    download=False,\n",
    "    transform=torchvision.transforms.ToTensor(),\n",
    "    target_transform=None\n",
    ")\n",
    "\n",
    "test_data = datasets.FashionMNIST(\n",
    "    root=\"data\",\n",
    "    train = False,\n",
    "    download=False,\n",
    "    transform=ToTensor(),\n",
    "    target_transform=None\n",
    ")"
   ]
  },
  {
   "cell_type": "code",
   "execution_count": 16,
   "id": "d8779700",
   "metadata": {},
   "outputs": [
    {
     "data": {
      "text/plain": [
       "(60000, 10000)"
      ]
     },
     "execution_count": 16,
     "metadata": {},
     "output_type": "execute_result"
    }
   ],
   "source": [
    "len(train_data), len(test_data)"
   ]
  },
  {
   "cell_type": "code",
   "execution_count": 17,
   "id": "69641b76",
   "metadata": {},
   "outputs": [
    {
     "data": {
      "text/plain": [
       "['T-shirt/top',\n",
       " 'Trouser',\n",
       " 'Pullover',\n",
       " 'Dress',\n",
       " 'Coat',\n",
       " 'Sandal',\n",
       " 'Shirt',\n",
       " 'Sneaker',\n",
       " 'Bag',\n",
       " 'Ankle boot']"
      ]
     },
     "execution_count": 17,
     "metadata": {},
     "output_type": "execute_result"
    }
   ],
   "source": [
    "classes_names = train_data.classes\n",
    "classes_names"
   ]
  },
  {
   "cell_type": "code",
   "execution_count": 18,
   "id": "7be51499",
   "metadata": {},
   "outputs": [
    {
     "data": {
      "text/plain": [
       "{'T-shirt/top': 0,\n",
       " 'Trouser': 1,\n",
       " 'Pullover': 2,\n",
       " 'Dress': 3,\n",
       " 'Coat': 4,\n",
       " 'Sandal': 5,\n",
       " 'Shirt': 6,\n",
       " 'Sneaker': 7,\n",
       " 'Bag': 8,\n",
       " 'Ankle boot': 9}"
      ]
     },
     "execution_count": 18,
     "metadata": {},
     "output_type": "execute_result"
    }
   ],
   "source": [
    "class_idx = train_data.class_to_idx\n",
    "class_idx"
   ]
  },
  {
   "cell_type": "code",
   "execution_count": 19,
   "id": "ea01fbc9",
   "metadata": {},
   "outputs": [
    {
     "data": {
      "text/plain": [
       "tensor([9, 0, 0,  ..., 3, 0, 5])"
      ]
     },
     "execution_count": 19,
     "metadata": {},
     "output_type": "execute_result"
    }
   ],
   "source": [
    "train_data.targets"
   ]
  },
  {
   "cell_type": "code",
   "execution_count": 20,
   "id": "c4ec6278",
   "metadata": {},
   "outputs": [],
   "source": [
    "# check the shape\n",
    "image, label = train_data[0]"
   ]
  },
  {
   "cell_type": "code",
   "execution_count": 21,
   "id": "6760521d",
   "metadata": {},
   "outputs": [
    {
     "name": "stdout",
     "output_type": "stream",
     "text": [
      "Image shape : torch.Size([1, 28, 28]) -> [color_channel, height, width]\n",
      "Image label : Ankle boot\n"
     ]
    }
   ],
   "source": [
    "# check the shape of image\n",
    "\n",
    "print(f\"Image shape : {image.shape} -> [color_channel, height, width]\")\n",
    "print(f\"Image label : {classes_names[label]}\")"
   ]
  },
  {
   "cell_type": "code",
   "execution_count": 22,
   "id": "4902bc26-53bb-4e05-b3fd-9f7f842fb98c",
   "metadata": {},
   "outputs": [
    {
     "name": "stdout",
     "output_type": "stream",
     "text": [
      "After squeeze: torch.Size([28, 28])\n"
     ]
    }
   ],
   "source": [
    "img = image.squeeze(0)  # Shape: [28, 28]\n",
    "print(\"After squeeze:\", img.shape)\n"
   ]
  },
  {
   "cell_type": "code",
   "execution_count": 26,
   "id": "b9636219-9b97-41e1-ad55-56d06e5db0f3",
   "metadata": {},
   "outputs": [
    {
     "name": "stderr",
     "output_type": "stream",
     "text": [
      "C:\\Users\\vikram\\AppData\\Local\\Temp\\ipykernel_21784\\3947029103.py:2: MatplotlibDeprecationWarning: Auto-close()ing of figures upon backend switching is deprecated since 3.8 and will be removed two minor releases later.  To suppress this warning, explicitly call plt.close('all') first.\n",
      "  matplotlib.use('TkAgg')  # Enables interactive plots\n"
     ]
    }
   ],
   "source": [
    "import matplotlib\n",
    "matplotlib.use('TkAgg')  # Enables interactive plots\n",
    "  # No GUI\n"
   ]
  },
  {
   "cell_type": "code",
   "execution_count": null,
   "id": "19dde106-f855-4588-af37-1eda892d972b",
   "metadata": {},
   "outputs": [],
   "source": []
  }
 ],
 "metadata": {
  "kernelspec": {
   "display_name": "Python [conda env:base] *",
   "language": "python",
   "name": "conda-base-py"
  },
  "language_info": {
   "codemirror_mode": {
    "name": "ipython",
    "version": 3
   },
   "file_extension": ".py",
   "mimetype": "text/x-python",
   "name": "python",
   "nbconvert_exporter": "python",
   "pygments_lexer": "ipython3",
   "version": "3.12.7"
  }
 },
 "nbformat": 4,
 "nbformat_minor": 5
}
