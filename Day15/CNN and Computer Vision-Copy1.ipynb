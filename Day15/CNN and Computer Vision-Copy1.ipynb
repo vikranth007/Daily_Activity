{
 "cells": [
  {
   "cell_type": "markdown",
   "id": "ba4d4c40-c424-4283-8ef0-8ac19b680613",
   "metadata": {},
   "source": [
    "## Computer vision libraries in Pytorch\n",
    "\n",
    "\n",
    "* [torchvision](https://docs.pytorch.org/vision/stable/index.html)\n",
    "* `torchvision.datasets` - get datasets and data loading functions for computer vision\n",
    "* `torchvision.transform` - image -> Tensor\n",
    "* `torch.utils.data.Datasets` - Base datasets class for pytorch\n",
    "* `torch.utils.data.DataLoader`-Creates a python iterable over a datasets"
   ]
  },
  {
   "cell_type": "code",
   "execution_count": 1,
   "id": "62e188ec-c08b-4d56-a7eb-cf8d857bd2d8",
   "metadata": {},
   "outputs": [
    {
     "name": "stdout",
     "output_type": "stream",
     "text": [
      "2.5.1+cu121\n",
      "0.20.1+cu121\n"
     ]
    }
   ],
   "source": [
    "import torch\n",
    "from torch import nn\n",
    "\n",
    "import torchvision\n",
    "from torchvision import datasets\n",
    "from torchvision import transforms\n",
    "from torchvision.transforms import ToTensor\n",
    "\n",
    "\n",
    "# import matplotlib for visualization\n",
    "\n",
    "import matplotlib.pyplot as plt\n",
    "\n",
    "# check version\n",
    "\n",
    "print(torch.__version__)\n",
    "print(torchvision.__version__)\n",
    "\n"
   ]
  },
  {
   "cell_type": "code",
   "execution_count": null,
   "id": "d2a4528e-8ba0-4851-8050-3711ef29c148",
   "metadata": {},
   "outputs": [],
   "source": []
  },
  {
   "cell_type": "markdown",
   "id": "75913208",
   "metadata": {},
   "source": [
    "## Getting a  dataset\n",
    "\n",
    "the dataset well's be using is `FashionMNIST from torchvision.datasets `"
   ]
  },
  {
   "cell_type": "code",
   "execution_count": null,
   "id": "c9585c94",
   "metadata": {},
   "outputs": [],
   "source": [
    "from torchvision  import datasets\n",
    "\n",
    "train_data = datasets.FashionMNIST(\n",
    "    root = \"data\",\n",
    "    train=True,\n",
    "    download=False,\n",
    "    transform=torchvision.transforms.ToTensor(),\n",
    "    target_transform=None\n",
    ")\n",
    "\n",
    "test_data = datasets.FashionMNIST(\n",
    "    root=\"data\",\n",
    "    train = False,\n",
    "    download=False,\n",
    "    transform=ToTensor(),\n",
    "    target_transform=None\n",
    ")"
   ]
  },
  {
   "cell_type": "code",
   "execution_count": null,
   "id": "d8779700",
   "metadata": {},
   "outputs": [],
   "source": [
    "len(train_data), len(test_data)"
   ]
  },
  {
   "cell_type": "code",
   "execution_count": null,
   "id": "69641b76",
   "metadata": {},
   "outputs": [],
   "source": [
    "classes_names = train_data.classes\n",
    "classes_names"
   ]
  },
  {
   "cell_type": "code",
   "execution_count": null,
   "id": "7be51499",
   "metadata": {},
   "outputs": [],
   "source": [
    "class_idx = train_data.class_to_idx\n",
    "class_idx"
   ]
  },
  {
   "cell_type": "code",
   "execution_count": null,
   "id": "ea01fbc9",
   "metadata": {},
   "outputs": [],
   "source": [
    "train_data.targets"
   ]
  },
  {
   "cell_type": "code",
   "execution_count": null,
   "id": "c4ec6278",
   "metadata": {},
   "outputs": [],
   "source": [
    "# check the shape\n",
    "image, label = train_data[0]"
   ]
  },
  {
   "cell_type": "code",
   "execution_count": null,
   "id": "6760521d",
   "metadata": {},
   "outputs": [],
   "source": [
    "# check the shape of image\n",
    "\n",
    "print(f\"Image shape : {image.shape} -> [color_channel, height, width]\")\n",
    "print(f\"Image label : {classes_names[label]}\")"
   ]
  },
  {
   "cell_type": "code",
   "execution_count": null,
   "id": "4902bc26-53bb-4e05-b3fd-9f7f842fb98c",
   "metadata": {},
   "outputs": [],
   "source": [
    "img = image.squeeze(0)\n",
    "img.shape"
   ]
  },
  {
   "cell_type": "code",
   "execution_count": null,
   "id": "b9636219-9b97-41e1-ad55-56d06e5db0f3",
   "metadata": {},
   "outputs": [],
   "source": [
    "img.numpy().shape"
   ]
  },
  {
   "cell_type": "code",
   "execution_count": null,
   "id": "4fe1bbf4-0e3e-4ca8-9c55-5aa020653747",
   "metadata": {},
   "outputs": [],
   "source": [
    "plt.imshow(img.cpu().numpy(), cmap='gray')\n",
    "plt.axis('off')  # Optional: hides axes\n",
    "plt.show()       # ✅ This actually renders the image\n"
   ]
  }
 ],
 "metadata": {
  "kernelspec": {
   "display_name": "Python [conda env:base] *",
   "language": "python",
   "name": "conda-base-py"
  },
  "language_info": {
   "codemirror_mode": {
    "name": "ipython",
    "version": 3
   },
   "file_extension": ".py",
   "mimetype": "text/x-python",
   "name": "python",
   "nbconvert_exporter": "python",
   "pygments_lexer": "ipython3",
   "version": "3.12.7"
  }
 },
 "nbformat": 4,
 "nbformat_minor": 5
}
