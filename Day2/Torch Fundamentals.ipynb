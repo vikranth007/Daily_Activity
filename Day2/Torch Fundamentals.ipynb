{
 "cells": [
  {
   "cell_type": "code",
   "id": "17f50a8a-d39a-4b9c-b26a-aa80ec690991",
   "metadata": {
    "ExecuteTime": {
     "end_time": "2025-05-26T09:32:13.971042Z",
     "start_time": "2025-05-26T09:32:08.170554Z"
    }
   },
   "source": [
    "import torch"
   ],
   "outputs": [],
   "execution_count": 1
  },
  {
   "cell_type": "code",
   "execution_count": 2,
   "id": "6bcf8e73-ff33-4b7f-97f5-f91d23583b16",
   "metadata": {},
   "outputs": [
    {
     "data": {
      "text/plain": [
       "tensor(7)"
      ]
     },
     "execution_count": 2,
     "metadata": {},
     "output_type": "execute_result"
    }
   ],
   "source": [
    "scaler = torch.tensor(7)\n",
    "scaler"
   ]
  },
  {
   "cell_type": "code",
   "execution_count": 3,
   "id": "ed868419-eed7-4bf6-9523-655ac37478ac",
   "metadata": {},
   "outputs": [
    {
     "data": {
      "text/plain": [
       "0"
      ]
     },
     "execution_count": 3,
     "metadata": {},
     "output_type": "execute_result"
    }
   ],
   "source": [
    "scaler.ndim"
   ]
  },
  {
   "cell_type": "code",
   "execution_count": 4,
   "id": "a09e3a27-1cc4-4374-98bd-8587ab2caba0",
   "metadata": {},
   "outputs": [
    {
     "data": {
      "text/plain": [
       "7"
      ]
     },
     "execution_count": 4,
     "metadata": {},
     "output_type": "execute_result"
    }
   ],
   "source": [
    "scaler.item()"
   ]
  },
  {
   "cell_type": "code",
   "execution_count": 5,
   "id": "ae817ff3-469b-4937-aec5-75d2e529eade",
   "metadata": {},
   "outputs": [
    {
     "data": {
      "text/plain": [
       "tensor([1, 2])"
      ]
     },
     "execution_count": 5,
     "metadata": {},
     "output_type": "execute_result"
    }
   ],
   "source": [
    "vector = torch.tensor([1, 2])\n",
    "vector"
   ]
  },
  {
   "cell_type": "code",
   "execution_count": 6,
   "id": "aa8fefd3-8f4d-4d62-9e9b-f504b9bfe7be",
   "metadata": {},
   "outputs": [
    {
     "data": {
      "text/plain": [
       "torch.Size([2])"
      ]
     },
     "execution_count": 6,
     "metadata": {},
     "output_type": "execute_result"
    }
   ],
   "source": [
    "vector.shape"
   ]
  },
  {
   "cell_type": "code",
   "execution_count": 7,
   "id": "b1b3a0e6-9e22-481d-a0c6-f4bb10c6c634",
   "metadata": {},
   "outputs": [
    {
     "data": {
      "text/plain": [
       "1"
      ]
     },
     "execution_count": 7,
     "metadata": {},
     "output_type": "execute_result"
    }
   ],
   "source": [
    "vector.ndim"
   ]
  },
  {
   "cell_type": "code",
   "execution_count": 9,
   "id": "9c1388a0-6946-4cbf-9b66-359a3e959031",
   "metadata": {},
   "outputs": [
    {
     "data": {
      "text/plain": [
       "tensor([[7, 8],\n",
       "        [9, 2]])"
      ]
     },
     "execution_count": 9,
     "metadata": {},
     "output_type": "execute_result"
    }
   ],
   "source": [
    "matrix = torch.tensor([[7, 8],\n",
    "                      [9, 2]])\n",
    "\n",
    "matrix"
   ]
  },
  {
   "cell_type": "code",
   "execution_count": 10,
   "id": "1dcdd6f3-c4a4-4f35-90e1-9e75f4b4d69f",
   "metadata": {},
   "outputs": [
    {
     "data": {
      "text/plain": [
       "2"
      ]
     },
     "execution_count": 10,
     "metadata": {},
     "output_type": "execute_result"
    }
   ],
   "source": [
    "matrix.ndim"
   ]
  },
  {
   "cell_type": "code",
   "execution_count": 11,
   "id": "4af8e809-5179-400d-a4f8-0f1ae02da6c1",
   "metadata": {},
   "outputs": [
    {
     "data": {
      "text/plain": [
       "torch.Size([2, 2])"
      ]
     },
     "execution_count": 11,
     "metadata": {},
     "output_type": "execute_result"
    }
   ],
   "source": [
    "matrix.shape"
   ]
  },
  {
   "cell_type": "code",
   "execution_count": 12,
   "id": "90b777ad-2745-4a11-ac65-5245fe75e7d7",
   "metadata": {},
   "outputs": [
    {
     "data": {
      "text/plain": [
       "tensor([[[1, 2, 3],\n",
       "         [4, 5, 6],\n",
       "         [7, 8, 9]]])"
      ]
     },
     "execution_count": 12,
     "metadata": {},
     "output_type": "execute_result"
    }
   ],
   "source": [
    "tensor = torch.tensor([[[1, 2, 3],\n",
    "                       [4, 5, 6 ],\n",
    "                       [7, 8 ,9 ]]])\n",
    "\n",
    "tensor"
   ]
  },
  {
   "cell_type": "code",
   "execution_count": 13,
   "id": "384ff6af-fb4d-4656-ba5d-a34ea6c43bfc",
   "metadata": {},
   "outputs": [
    {
     "data": {
      "text/plain": [
       "torch.Size([1, 3, 3])"
      ]
     },
     "execution_count": 13,
     "metadata": {},
     "output_type": "execute_result"
    }
   ],
   "source": [
    "tensor.shape"
   ]
  },
  {
   "cell_type": "code",
   "execution_count": 14,
   "id": "05e1e1c0-c651-4d28-b582-584f4e35b106",
   "metadata": {},
   "outputs": [
    {
     "data": {
      "text/plain": [
       "3"
      ]
     },
     "execution_count": 14,
     "metadata": {},
     "output_type": "execute_result"
    }
   ],
   "source": [
    "tensor.ndim"
   ]
  },
  {
   "cell_type": "markdown",
   "id": "0bff3c66-b281-4458-92bf-39f11d0ea3b8",
   "metadata": {},
   "source": [
    "### Random tensor"
   ]
  },
  {
   "cell_type": "code",
   "execution_count": 24,
   "id": "e8de125d-8402-4044-9ad2-c13f1be1af0e",
   "metadata": {},
   "outputs": [
    {
     "data": {
      "text/plain": [
       "tensor([[[0.6276, 0.8393, 0.2423, 0.1611],\n",
       "         [0.9289, 0.4438, 0.6982, 0.1502],\n",
       "         [0.0445, 0.5421, 0.5559, 0.1647]]])"
      ]
     },
     "execution_count": 24,
     "metadata": {},
     "output_type": "execute_result"
    }
   ],
   "source": [
    "random_tensor = torch.rand(1, 3, 4)\n",
    "random_tensor"
   ]
  },
  {
   "cell_type": "code",
   "execution_count": 25,
   "id": "8141ad3b-fa99-4a0e-9b70-745f97d0a18a",
   "metadata": {},
   "outputs": [
    {
     "data": {
      "text/plain": [
       "torch.Size([1, 3, 4])"
      ]
     },
     "execution_count": 25,
     "metadata": {},
     "output_type": "execute_result"
    }
   ],
   "source": [
    "random_tensor.shape"
   ]
  },
  {
   "cell_type": "code",
   "execution_count": 26,
   "id": "c09caa26-3ac7-4673-81ae-000b59c86a55",
   "metadata": {},
   "outputs": [
    {
     "data": {
      "text/plain": [
       "3"
      ]
     },
     "execution_count": 26,
     "metadata": {},
     "output_type": "execute_result"
    }
   ],
   "source": [
    "random_tensor.ndim"
   ]
  },
  {
   "cell_type": "code",
   "execution_count": 27,
   "id": "6caad3b8-96fe-4d36-958e-362885bd7c80",
   "metadata": {},
   "outputs": [
    {
     "data": {
      "text/plain": [
       "(torch.Size([224, 224, 3]), 3)"
      ]
     },
     "execution_count": 27,
     "metadata": {},
     "output_type": "execute_result"
    }
   ],
   "source": [
    "# create a random tensor size (224, 224, 3)\n",
    "\n",
    "random_image_size_tensor = torch.rand(size=(224, 224, 3))\n",
    "\n",
    "random_image_size_tensor.shape, random_image_size_tensor.ndim"
   ]
  },
  {
   "cell_type": "markdown",
   "id": "f2f5e136-a3a8-4e9d-9c9c-241a9e834d08",
   "metadata": {},
   "source": [
    "### Create a tensor Zeros and ones "
   ]
  },
  {
   "cell_type": "code",
   "id": "dc638f81-e7fb-47c0-9c6d-aa4d33401538",
   "metadata": {
    "ExecuteTime": {
     "end_time": "2025-05-26T09:42:12.958759Z",
     "start_time": "2025-05-26T09:42:12.947200Z"
    }
   },
   "source": [
    "zeros = torch.zeros(size=(3 ,4 ))\n",
    "zeros"
   ],
   "outputs": [
    {
     "data": {
      "text/plain": [
       "tensor([[0., 0., 0., 0.],\n",
       "        [0., 0., 0., 0.],\n",
       "        [0., 0., 0., 0.]])"
      ]
     },
     "execution_count": 31,
     "metadata": {},
     "output_type": "execute_result"
    }
   ],
   "execution_count": 31
  },
  {
   "cell_type": "code",
   "id": "58a5e1ca-8fbe-4787-9ba8-d3864ecfa035",
   "metadata": {
    "ExecuteTime": {
     "end_time": "2025-05-26T09:42:13.006778Z",
     "start_time": "2025-05-26T09:42:12.997132Z"
    }
   },
   "source": [
    "ones = torch.ones(size = (3, 4))\n",
    "ones,ones.dtype"
   ],
   "outputs": [
    {
     "data": {
      "text/plain": [
       "(tensor([[1., 1., 1., 1.],\n",
       "         [1., 1., 1., 1.],\n",
       "         [1., 1., 1., 1.]]),\n",
       " torch.float32)"
      ]
     },
     "execution_count": 32,
     "metadata": {},
     "output_type": "execute_result"
    }
   ],
   "execution_count": 32
  },
  {
   "cell_type": "markdown",
   "id": "f4572c06-f8aa-4f63-9d33-5e1a96b4de99",
   "metadata": {},
   "source": "### Create a range for 0 to 10"
  },
  {
   "cell_type": "code",
   "id": "efcabce6-bf26-47e5-8ed5-d5fe297ae0c7",
   "metadata": {
    "ExecuteTime": {
     "end_time": "2025-05-26T09:32:33.726044Z",
     "start_time": "2025-05-26T09:32:33.709941Z"
    }
   },
   "source": [
    "ten = torch.arange(start = 1, end= 11, step=1)\n",
    "ten"
   ],
   "outputs": [
    {
     "data": {
      "text/plain": [
       "tensor([ 1,  2,  3,  4,  5,  6,  7,  8,  9, 10])"
      ]
     },
     "execution_count": 4,
     "metadata": {},
     "output_type": "execute_result"
    }
   ],
   "execution_count": 4
  },
  {
   "cell_type": "code",
   "id": "542370b7-57a1-4f33-b6d5-2af2fd36d288",
   "metadata": {
    "ExecuteTime": {
     "end_time": "2025-05-26T09:33:44.617776Z",
     "start_time": "2025-05-26T09:33:44.607451Z"
    }
   },
   "source": [
    "zeros_to_ten = torch.arange(0 , 10)\n",
    "\n",
    "zeros_to_ten"
   ],
   "outputs": [
    {
     "data": {
      "text/plain": [
       "tensor([0, 1, 2, 3, 4, 5, 6, 7, 8, 9])"
      ]
     },
     "execution_count": 10,
     "metadata": {},
     "output_type": "execute_result"
    }
   ],
   "execution_count": 10
  },
  {
   "metadata": {},
   "cell_type": "markdown",
   "source": "### Tensor Datatypes",
   "id": "8a9a7267b138ade9"
  },
  {
   "metadata": {
    "ExecuteTime": {
     "end_time": "2025-05-26T09:50:02.825811Z",
     "start_time": "2025-05-26T09:50:02.817109Z"
    }
   },
   "cell_type": "code",
   "source": [
    "float_32_tensor = torch.tensor([1., 2., 3.],dtype=torch.float64, device='cuda', requires_grad=False)\n",
    "float_32_tensor.dtype"
   ],
   "id": "496cab5909e4039e",
   "outputs": [
    {
     "data": {
      "text/plain": [
       "torch.float64"
      ]
     },
     "execution_count": 42,
     "metadata": {},
     "output_type": "execute_result"
    }
   ],
   "execution_count": 42
  },
  {
   "metadata": {
    "ExecuteTime": {
     "end_time": "2025-05-26T09:50:04.297964Z",
     "start_time": "2025-05-26T09:50:04.288758Z"
    }
   },
   "cell_type": "code",
   "source": "float_32_tensor",
   "id": "c9b5754af16bae6d",
   "outputs": [
    {
     "data": {
      "text/plain": [
       "tensor([1., 2., 3.], device='cuda:0', dtype=torch.float64)"
      ]
     },
     "execution_count": 43,
     "metadata": {},
     "output_type": "execute_result"
    }
   ],
   "execution_count": 43
  },
  {
   "metadata": {
    "ExecuteTime": {
     "end_time": "2025-05-26T09:50:09.118149Z",
     "start_time": "2025-05-26T09:50:09.111144Z"
    }
   },
   "cell_type": "code",
   "source": [
    "float_16_tensor = float_32_tensor.type(torch.half)\n",
    "float_16_tensor"
   ],
   "id": "f8f528560cafd23b",
   "outputs": [
    {
     "data": {
      "text/plain": [
       "tensor([1., 2., 3.], device='cuda:0', dtype=torch.float16)"
      ]
     },
     "execution_count": 45,
     "metadata": {},
     "output_type": "execute_result"
    }
   ],
   "execution_count": 45
  }
 ],
 "metadata": {
  "kernelspec": {
   "display_name": "Python [conda env:base] *",
   "language": "python",
   "name": "conda-base-py"
  },
  "language_info": {
   "codemirror_mode": {
    "name": "ipython",
    "version": 3
   },
   "file_extension": ".py",
   "mimetype": "text/x-python",
   "name": "python",
   "nbconvert_exporter": "python",
   "pygments_lexer": "ipython3",
   "version": "3.12.7"
  }
 },
 "nbformat": 4,
 "nbformat_minor": 5
}
