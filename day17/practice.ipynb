{
 "cells": [
  {
   "cell_type": "code",
   "execution_count": 213,
   "id": "f1449058",
   "metadata": {},
   "outputs": [],
   "source": [
    "import torch\n",
    "from torch import nn\n",
    "import torchvision\n",
    "from torchvision import datasets\n",
    "from torchvision import transforms\n",
    "from torchvision.transforms import ToTensor"
   ]
  },
  {
   "cell_type": "code",
   "execution_count": 214,
   "id": "c6c7bf0f",
   "metadata": {},
   "outputs": [],
   "source": [
    "train_data = datasets.FashionMNIST(root=\"data\",\n",
    "                                   train = True,\n",
    "                                   download=False,\n",
    "                                   transform=ToTensor(),\n",
    "                                   target_transform=None)\n",
    "\n",
    "test_data = datasets.FashionMNIST(root=\"data\",\n",
    "                                  download=False,\n",
    "                                  train=False,\n",
    "                                  transform=ToTensor(),\n",
    "                                  target_transform=None)"
   ]
  },
  {
   "cell_type": "code",
   "execution_count": 215,
   "id": "ae38845a",
   "metadata": {},
   "outputs": [
    {
     "data": {
      "text/plain": [
       "(60000, 10000)"
      ]
     },
     "execution_count": 215,
     "metadata": {},
     "output_type": "execute_result"
    }
   ],
   "source": [
    "len(train_data),len(test_data)"
   ]
  },
  {
   "cell_type": "code",
   "execution_count": 216,
   "id": "691fc9bb",
   "metadata": {},
   "outputs": [],
   "source": [
    "batch_size=32\n",
    "\n",
    "\n",
    "train_data_loader = torch.utils.data.DataLoader(batch_size=batch_size,\n",
    "                                          shuffle=True,\n",
    "                                          dataset=train_data)\n",
    "\n",
    "test_data_loader = torch.utils.data.DataLoader(dataset=test_data,\n",
    "                                               shuffle=False,\n",
    "                                               batch_size=batch_size)"
   ]
  },
  {
   "cell_type": "code",
   "execution_count": 217,
   "id": "5108237c",
   "metadata": {},
   "outputs": [
    {
     "data": {
      "text/plain": [
       "(1875, 313)"
      ]
     },
     "execution_count": 217,
     "metadata": {},
     "output_type": "execute_result"
    }
   ],
   "source": [
    "len(train_data_loader),len(test_data_loader)"
   ]
  },
  {
   "cell_type": "code",
   "execution_count": 218,
   "id": "7679b636",
   "metadata": {},
   "outputs": [
    {
     "data": {
      "text/plain": [
       "['T-shirt/top',\n",
       " 'Trouser',\n",
       " 'Pullover',\n",
       " 'Dress',\n",
       " 'Coat',\n",
       " 'Sandal',\n",
       " 'Shirt',\n",
       " 'Sneaker',\n",
       " 'Bag',\n",
       " 'Ankle boot']"
      ]
     },
     "execution_count": 218,
     "metadata": {},
     "output_type": "execute_result"
    }
   ],
   "source": [
    "classes = train_data.classes\n",
    "classes"
   ]
  },
  {
   "cell_type": "code",
   "execution_count": 219,
   "id": "3b772e09",
   "metadata": {},
   "outputs": [
    {
     "data": {
      "text/plain": [
       "(1875, 313)"
      ]
     },
     "execution_count": 219,
     "metadata": {},
     "output_type": "execute_result"
    }
   ],
   "source": [
    "len(train_data_loader), len(test_data_loader)\n"
   ]
  },
  {
   "cell_type": "code",
   "execution_count": 220,
   "id": "493db709",
   "metadata": {},
   "outputs": [
    {
     "data": {
      "text/plain": [
       "'cuda'"
      ]
     },
     "execution_count": 220,
     "metadata": {},
     "output_type": "execute_result"
    }
   ],
   "source": [
    "device = \"cuda\" if torch.cuda.is_available() else \"cpu\"\n",
    "device"
   ]
  },
  {
   "cell_type": "code",
   "execution_count": 221,
   "id": "0601e89d",
   "metadata": {},
   "outputs": [],
   "source": [
    "class CNN_mode(nn.Module):\n",
    "    def __init__(self, input_shape:int,\n",
    "                 output_shape : int,\n",
    "                 hidden_units : int):\n",
    "        super().__init__()\n",
    "        self.conv_black1 = nn.Sequential(\n",
    "            nn.Conv2d(in_channels=input_shape,\n",
    "                      out_channels=hidden_units,\n",
    "                      kernel_size=3,\n",
    "                      stride=1,\n",
    "                      padding=1),\n",
    "            nn.ReLU(),\n",
    "            nn.Conv2d(in_channels=hidden_units,\n",
    "                      out_channels=hidden_units,\n",
    "                      kernel_size=3,\n",
    "                      stride=1,\n",
    "                      padding=1),\n",
    "            nn.ReLU(),\n",
    "            nn.MaxPool2d(kernel_size=2)\n",
    "        )\n",
    "        self.conv_black2 = nn.Sequential(\n",
    "            nn.Conv2d(in_channels=hidden_units,\n",
    "                      out_channels=hidden_units,\n",
    "                      kernel_size=3,\n",
    "                      stride=1,\n",
    "                      padding=1),\n",
    "            nn.ReLU(),\n",
    "            nn.Conv2d(in_channels=hidden_units,\n",
    "                      out_channels=hidden_units,\n",
    "                      kernel_size=3,\n",
    "                      stride=1,\n",
    "                      padding=1),\n",
    "            nn.ReLU(),\n",
    "            nn.MaxPool2d(kernel_size=2)\n",
    "        )\n",
    "        self.classifier = nn.Sequential(\n",
    "            nn.Flatten(),\n",
    "            nn.Linear(in_features=hidden_units*7*7,\n",
    "                                    out_features=output_shape)\n",
    "\n",
    "        )\n",
    "    \n",
    "    def forward(self,x):\n",
    "        x = self.conv_black1(x)\n",
    "        x = self.conv_black2(x)\n",
    "        x = self.classifier(x)\n",
    "        return x"
   ]
  },
  {
   "cell_type": "code",
   "execution_count": 222,
   "id": "c004bbb7",
   "metadata": {},
   "outputs": [
    {
     "data": {
      "text/plain": [
       "CNN_mode(\n",
       "  (conv_black1): Sequential(\n",
       "    (0): Conv2d(1, 10, kernel_size=(3, 3), stride=(1, 1), padding=(1, 1))\n",
       "    (1): ReLU()\n",
       "    (2): Conv2d(10, 10, kernel_size=(3, 3), stride=(1, 1), padding=(1, 1))\n",
       "    (3): ReLU()\n",
       "    (4): MaxPool2d(kernel_size=2, stride=2, padding=0, dilation=1, ceil_mode=False)\n",
       "  )\n",
       "  (conv_black2): Sequential(\n",
       "    (0): Conv2d(10, 10, kernel_size=(3, 3), stride=(1, 1), padding=(1, 1))\n",
       "    (1): ReLU()\n",
       "    (2): Conv2d(10, 10, kernel_size=(3, 3), stride=(1, 1), padding=(1, 1))\n",
       "    (3): ReLU()\n",
       "    (4): MaxPool2d(kernel_size=2, stride=2, padding=0, dilation=1, ceil_mode=False)\n",
       "  )\n",
       "  (classifier): Sequential(\n",
       "    (0): Flatten(start_dim=1, end_dim=-1)\n",
       "    (1): Linear(in_features=490, out_features=10, bias=True)\n",
       "  )\n",
       ")"
      ]
     },
     "execution_count": 222,
     "metadata": {},
     "output_type": "execute_result"
    }
   ],
   "source": [
    "torch.manual_seed(42)\n",
    "\n",
    "model = CNN_mode(input_shape=1, output_shape=len(classes), hidden_units=10)\n",
    "\n",
    "model.to(device)"
   ]
  },
  {
   "cell_type": "code",
   "execution_count": 223,
   "id": "e34765d2",
   "metadata": {},
   "outputs": [],
   "source": [
    "from helper_functions import accuracy_fn\n",
    "\n",
    "\n",
    "loss_fn = nn.CrossEntropyLoss()\n",
    "\n",
    "optimizer = torch.optim.SGD(params=model.parameters(),lr=0.1)"
   ]
  },
  {
   "cell_type": "code",
   "execution_count": 224,
   "id": "d3bd9cfc",
   "metadata": {},
   "outputs": [],
   "source": [
    "def train_model(model:nn.Module,\n",
    "                data_loader:torch.utils.data.DataLoader,\n",
    "                optimizer:torch.optim.Optimizer,\n",
    "                loss_fn:torch.nn.Module,\n",
    "                accuracy_fn,\n",
    "                device:torch.device=device):\n",
    "    train_loss, train_acc = 0, 0\n",
    "\n",
    "    model.train()\n",
    "\n",
    "    for batch, (x, y) in enumerate(data_loader):\n",
    "        x = x.to(device)\n",
    "        y = y.to(device)\n",
    "\n",
    "        y_pred = model(x)\n",
    "        loss = loss_fn(y_pred, y)\n",
    "\n",
    "        train_loss += loss\n",
    "        train_acc += accuracy_fn(y_true=y, y_pred=y_pred.argmax(dim=1))\n",
    "\n",
    "        optimizer.zero_grad()\n",
    "\n",
    "        loss.backward()\n",
    "\n",
    "        optimizer.step()\n",
    "\n",
    "    train_loss /= len(data_loader)\n",
    "    train_acc /= len(data_loader)\n",
    "    print(f\"train loss : {train_loss:.5f} | train acc : {train_acc:.5f}%\")\n"
   ]
  },
  {
   "cell_type": "code",
   "execution_count": 225,
   "id": "0a4473db",
   "metadata": {},
   "outputs": [],
   "source": [
    "def test_model(model:nn.Module,\n",
    "               data_loader:torch.utils.data.DataLoader,\n",
    "               loss_fn:nn.Module,\n",
    "               accuracy_fn,\n",
    "               device:torch.device):\n",
    "    \n",
    "    test_loss, test_acc = 0, 0\n",
    "\n",
    "    model.eval()\n",
    "    with torch.inference_mode():\n",
    "        for x, y in data_loader:\n",
    "            x = x.to(device)\n",
    "            y = y.to(device)\n",
    "            \n",
    "            test_pred = model(x)\n",
    "\n",
    "           \n",
    "        \n",
    "\n",
    "            test_loss +=  loss_fn(test_pred, y)\n",
    "            test_acc += accuracy_fn(y_true=y, y_pred=test_pred.argmax(dim=1))\n",
    "\n",
    "        test_loss /= len(data_loader)\n",
    "        test_acc /= len(data_loader)\n",
    "        print(f\"test loss : {test_loss:.5f}  | test acc : {test_acc:.5f}%\")\n",
    "\n"
   ]
  },
  {
   "cell_type": "code",
   "execution_count": null,
   "id": "75b3674d",
   "metadata": {},
   "outputs": [],
   "source": []
  },
  {
   "cell_type": "code",
   "execution_count": 226,
   "id": "83049a9c",
   "metadata": {},
   "outputs": [],
   "source": [
    "from timeit import default_timer as timer\n",
    "\n",
    "def print_train_time(start:float, end:float, device:torch.device=None):\n",
    "\n",
    "  total_time = end - start\n",
    "  print(f\"Train time of {device} : {total_time:.3f} seconds...\")\n",
    "  return total_time"
   ]
  },
  {
   "cell_type": "code",
   "execution_count": 227,
   "id": "51600b6c",
   "metadata": {},
   "outputs": [
    {
     "data": {
      "application/vnd.jupyter.widget-view+json": {
       "model_id": "90e93bfa8ec24658b4b49c11c7de2048",
       "version_major": 2,
       "version_minor": 0
      },
      "text/plain": [
       "  0%|          | 0/3 [00:00<?, ?it/s]"
      ]
     },
     "metadata": {},
     "output_type": "display_data"
    },
    {
     "name": "stdout",
     "output_type": "stream",
     "text": [
      "epochs : 0 \n",
      "_____\n",
      "train loss : 0.61922 | train acc : 77.54167%\n",
      "test loss : 0.40464  | test acc : 85.74281%\n",
      "epochs : 1 \n",
      "_____\n",
      "train loss : 0.36875 | train acc : 86.79167%\n",
      "test loss : 0.35132  | test acc : 87.45008%\n",
      "epochs : 2 \n",
      "_____\n",
      "train loss : 0.33087 | train acc : 87.97167%\n",
      "test loss : 0.33205  | test acc : 87.75958%\n",
      "Train time of cuda : 21.532 seconds...\n"
     ]
    }
   ],
   "source": [
    "from tqdm.auto import tqdm\n",
    "from timeit import default_timer as timer\n",
    "\n",
    "\n",
    "torch.manual_seed(42)\n",
    "torch.cuda.manual_seed(42)\n",
    "\n",
    "epochs = 3\n",
    "train_time_start_model = timer()\n",
    "\n",
    "for epoch in tqdm(range(epochs)):\n",
    "    print(f\"epochs : {epoch} \\n_____\")\n",
    "\n",
    "    train_model(model=model,\n",
    "                data_loader=train_data_loader,\n",
    "                optimizer=optimizer,\n",
    "                loss_fn=loss_fn,\n",
    "                accuracy_fn=accuracy_fn,\n",
    "                device=device)\n",
    "    test_model(model=model,\n",
    "               data_loader=test_data_loader,\n",
    "               loss_fn=loss_fn,\n",
    "               accuracy_fn=accuracy_fn,\n",
    "               device=device)\n",
    "    \n",
    "train_time_end_model = timer()\n",
    "\n",
    "total_train_time_model = print_train_time(end=train_time_end_model,start=train_time_start_model,device=device)\n"
   ]
  }
 ],
 "metadata": {
  "kernelspec": {
   "display_name": "base",
   "language": "python",
   "name": "python3"
  },
  "language_info": {
   "codemirror_mode": {
    "name": "ipython",
    "version": 3
   },
   "file_extension": ".py",
   "mimetype": "text/x-python",
   "name": "python",
   "nbconvert_exporter": "python",
   "pygments_lexer": "ipython3",
   "version": "3.12.7"
  }
 },
 "nbformat": 4,
 "nbformat_minor": 5
}
