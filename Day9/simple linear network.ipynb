{
 "cells": [
  {
   "cell_type": "code",
   "execution_count": 41,
   "id": "ac0c6b19-de9d-49e0-b34b-ab017f556eac",
   "metadata": {},
   "outputs": [],
   "source": [
    "import torch\n",
    "import matplotlib.pyplot as plt\n",
    "from torch import nn"
   ]
  },
  {
   "cell_type": "code",
   "execution_count": 42,
   "id": "51a5c4e1-5333-418b-9dc6-f4014a3abc5d",
   "metadata": {},
   "outputs": [
    {
     "data": {
      "text/plain": [
       "'2.5.1+cu121'"
      ]
     },
     "execution_count": 42,
     "metadata": {},
     "output_type": "execute_result"
    }
   ],
   "source": [
    "torch.__version__"
   ]
  },
  {
   "cell_type": "code",
   "execution_count": 43,
   "id": "9eda206f-0200-424f-adc0-149fd3b8b2f5",
   "metadata": {},
   "outputs": [
    {
     "data": {
      "text/plain": [
       "'cuda'"
      ]
     },
     "execution_count": 43,
     "metadata": {},
     "output_type": "execute_result"
    }
   ],
   "source": [
    "## Set upto the cuda device\n",
    "\n",
    "device = \"cuda\" if torch.cuda.is_available() else \"cpu\"\n",
    "device"
   ]
  },
  {
   "cell_type": "markdown",
   "id": "0d9bf386-6286-40df-bcc4-b762c7d7d09f",
   "metadata": {},
   "source": [
    "# Create a Linear Regresion formula   $y= m * x + b$"
   ]
  },
  {
   "cell_type": "code",
   "execution_count": 44,
   "id": "bafbb120-d38f-4d75-b6b3-0f7e31129740",
   "metadata": {},
   "outputs": [],
   "source": [
    "weight = 0.7\n",
    "bias = 0.2\n",
    "\n",
    "# create range values\n",
    "start = 0\n",
    "end = 10\n",
    "step = 0.2\n",
    "\n",
    "\n",
    "# Create X and Y (feature and label)\n",
    "x = torch.arange(start, end, step).unsqueeze(dim=1)\n",
    "y = weight * x  + bias"
   ]
  },
  {
   "cell_type": "code",
   "execution_count": 45,
   "id": "8775adda-9800-490a-a188-a47ce0ae6c2a",
   "metadata": {},
   "outputs": [
    {
     "data": {
      "text/plain": [
       "(tensor([[0.0000],\n",
       "         [0.2000],\n",
       "         [0.4000],\n",
       "         [0.6000],\n",
       "         [0.8000],\n",
       "         [1.0000],\n",
       "         [1.2000],\n",
       "         [1.4000],\n",
       "         [1.6000],\n",
       "         [1.8000]]),\n",
       " tensor([[0.2000],\n",
       "         [0.3400],\n",
       "         [0.4800],\n",
       "         [0.6200],\n",
       "         [0.7600],\n",
       "         [0.9000],\n",
       "         [1.0400],\n",
       "         [1.1800],\n",
       "         [1.3200],\n",
       "         [1.4600]]))"
      ]
     },
     "execution_count": 45,
     "metadata": {},
     "output_type": "execute_result"
    }
   ],
   "source": [
    "x[:10],y[:10]"
   ]
  },
  {
   "cell_type": "code",
   "execution_count": 46,
   "id": "136e028f-b2c5-4e2a-a99b-34252eb208c7",
   "metadata": {},
   "outputs": [],
   "source": [
    "train_split = int(0.8 * len(x))\n",
    "X_train, y_train = x[:train_split], y[:train_split]\n",
    "X_test, y_test = x[train_split:], y[train_split:]"
   ]
  },
  {
   "cell_type": "code",
   "execution_count": 47,
   "id": "258211f9-f1bc-4b76-82a4-11dcfb3fea2a",
   "metadata": {},
   "outputs": [
    {
     "data": {
      "text/plain": [
       "(40, 40, 10, 10)"
      ]
     },
     "execution_count": 47,
     "metadata": {},
     "output_type": "execute_result"
    }
   ],
   "source": [
    "len(X_train), len(y_train), len(X_test), len(y_test)"
   ]
  },
  {
   "cell_type": "markdown",
   "id": "c9dfe54f-939f-4853-a92b-dcfdaed5b40a",
   "metadata": {},
   "source": [
    "### Building a Pytorch Linear Model"
   ]
  },
  {
   "cell_type": "code",
   "execution_count": 48,
   "id": "b37cc2f7-c7e1-44bf-94b1-409d29e87d00",
   "metadata": {},
   "outputs": [],
   "source": [
    "class LinearRegression(nn.Module):\n",
    "    def __init__(self):\n",
    "        super().__init__()\n",
    "        self.Linear_layer = nn.Linear(in_features =1, out_features= 1)\n",
    "\n",
    "    def forward(self, x:torch.Tensor) -> torch.Tensor:\n",
    "        return self.Linear_layer(x)"
   ]
  },
  {
   "cell_type": "code",
   "execution_count": 49,
   "id": "a8c3ca8a-d851-48d8-a926-4f75ff95b30a",
   "metadata": {},
   "outputs": [
    {
     "data": {
      "text/plain": [
       "(LinearRegression(\n",
       "   (Linear_layer): Linear(in_features=1, out_features=1, bias=True)\n",
       " ),\n",
       " OrderedDict([('Linear_layer.weight', tensor([[0.7645]])),\n",
       "              ('Linear_layer.bias', tensor([0.8300]))]))"
      ]
     },
     "execution_count": 49,
     "metadata": {},
     "output_type": "execute_result"
    }
   ],
   "source": [
    "# create a manual seed for over model prediction \n",
    "torch.manual_seed(42)\n",
    "\n",
    "# then we are called over model\n",
    "model = LinearRegression()\n",
    "model, model.state_dict()"
   ]
  },
  {
   "cell_type": "code",
   "execution_count": 52,
   "id": "09cd0a77-fd54-4f36-8a50-d6ffd43f3ce8",
   "metadata": {},
   "outputs": [
    {
     "name": "stdout",
     "output_type": "stream",
     "text": [
      "4.84 μs ± 255 ns per loop (mean ± std. dev. of 7 runs, 100,000 loops each)\n"
     ]
    }
   ],
   "source": [
    "%%timeit\n",
    "next(model.parameters()).device"
   ]
  },
  {
   "cell_type": "code",
   "execution_count": 53,
   "id": "ecc8813b-acbe-44dc-9213-9890aac7b171",
   "metadata": {},
   "outputs": [
    {
     "name": "stdout",
     "output_type": "stream",
     "text": [
      "22.9 μs ± 1.21 μs per loop (mean ± std. dev. of 7 runs, 100,000 loops each)\n"
     ]
    }
   ],
   "source": [
    "%%timeit\n",
    "model.to(device)\n",
    "next(model.parameters()).device"
   ]
  },
  {
   "cell_type": "markdown",
   "id": "02a478da-6b5b-40ae-aa16-e9a75d177211",
   "metadata": {},
   "source": [
    "## Training \n",
    "### For training Loop\n",
    "\n",
    "* Loss function\n",
    "* optimizer\n",
    "* Training Loop\n",
    "* Testing Loop\n",
    "  "
   ]
  },
  {
   "cell_type": "code",
   "execution_count": 54,
   "id": "0b2e641f-bd48-46df-b913-5617dfe9007b",
   "metadata": {},
   "outputs": [],
   "source": [
    "# setup loss function\n",
    "\n",
    "loss_fn = nn.L1Loss() # same as MAE\n"
   ]
  },
  {
   "cell_type": "code",
   "execution_count": 55,
   "id": "7c80f4d4-9606-4922-9822-64240bc67a29",
   "metadata": {},
   "outputs": [],
   "source": [
    "# Setup our optimizer\n",
    "optimizer = torch.optim.SGD(model.parameters(), lr=0.01)"
   ]
  },
  {
   "cell_type": "markdown",
   "id": "55f2a2c3-ceb1-40e6-b1e8-873725793d6c",
   "metadata": {},
   "source": [
    "## Let's Write a Training Loop"
   ]
  },
  {
   "cell_type": "code",
   "execution_count": 56,
   "id": "e1c3b92a-9862-4385-a8bc-9c832a67ab8d",
   "metadata": {},
   "outputs": [
    {
     "name": "stdout",
     "output_type": "stream",
     "text": [
      "epoch : 0 | train loss0.8817082643508911 | test loss 0.8473014831542969\n",
      "epoch : 10 | train loss0.2374504804611206 | test loss 0.33865752816200256\n",
      "epoch : 20 | train loss0.22027067840099335 | test loss 0.3226965367794037\n",
      "epoch : 30 | train loss0.20297841727733612 | test loss 0.2813151776790619\n",
      "epoch : 40 | train loss0.1858103722333908 | test loss 0.26535430550575256\n",
      "epoch : 50 | train loss0.16864238679409027 | test loss 0.2493932694196701\n",
      "epoch : 60 | train loss0.1513383388519287 | test loss 0.20801196992397308\n",
      "epoch : 70 | train loss0.13418234884738922 | test loss 0.19294153153896332\n",
      "epoch : 80 | train loss0.11717834323644638 | test loss 0.1533416360616684\n",
      "epoch : 90 | train loss0.09974632412195206 | test loss 0.13827137649059296\n",
      "epoch : 100 | train loss0.0827857032418251 | test loss 0.12409181892871857\n",
      "epoch : 110 | train loss0.07601316273212433 | test loss 0.3162216246128082\n",
      "epoch : 120 | train loss0.07348845154047012 | test loss 0.026519346982240677\n",
      "epoch : 130 | train loss0.04061151668429375 | test loss 0.01849956624209881\n",
      "epoch : 140 | train loss0.11204381287097931 | test loss 0.02230076864361763\n",
      "epoch : 150 | train loss0.0986856147646904 | test loss 0.07105069607496262\n",
      "epoch : 160 | train loss0.13593706488609314 | test loss 0.008211994543671608\n",
      "epoch : 170 | train loss0.12510323524475098 | test loss 0.04421238973736763\n",
      "epoch : 180 | train loss0.13733091950416565 | test loss 0.025643110275268555\n",
      "epoch : 190 | train loss0.1437751054763794 | test loss 0.016194963827729225\n"
     ]
    }
   ],
   "source": [
    "\n",
    "torch.manual_seed(42)\n",
    "epochs = 200\n",
    "\n",
    "for epoch in range(epochs):\n",
    "\n",
    "    X_train = X_train.to(device)\n",
    "    y_train = y_train.to(device)\n",
    "    X_test = X_test.to(device)\n",
    "    y_test = y_test.to(device)\n",
    "\n",
    "    model.train()\n",
    "\n",
    "    # 1. Forward pass\n",
    "    y_pred = model(X_train)\n",
    "\n",
    "    # 2.Loss function\n",
    "    loss = loss_fn(y_pred, y_train)\n",
    "\n",
    "    # 3.optim\n",
    "    optimizer.zero_grad()\n",
    "\n",
    "    # 4.perform backpropagation\n",
    "    loss.backward()\n",
    "\n",
    "    # 5.optimizer stpe\n",
    "    optimizer.step()\n",
    "\n",
    "    # Testing model\n",
    "\n",
    "    model.eval()\n",
    "    with torch.inference_mode():\n",
    "        test_pred = model(X_test)\n",
    "\n",
    "        test_loss = loss_fn(test_pred, y_test)\n",
    "\n",
    "    ## Print out whatsHappening\n",
    "\n",
    "    if epoch % 10 == 0:\n",
    "        print(f\"epoch : {epoch} | train loss{loss} | test loss {test_loss}\")"
   ]
  },
  {
   "cell_type": "code",
   "execution_count": 57,
   "id": "224a3c78-73d1-467c-83fb-f5b7f4bed257",
   "metadata": {},
   "outputs": [],
   "source": [
    "torch.save(model.state_dict(),'linear_model.pth')"
   ]
  },
  {
   "cell_type": "code",
   "execution_count": 59,
   "id": "67f82ea2-ff7a-488b-9f27-aa7f925b2296",
   "metadata": {},
   "outputs": [
    {
     "data": {
      "text/plain": [
       "OrderedDict([('Linear_layer.weight', tensor([[0.6606]], device='cuda:0')),\n",
       "             ('Linear_layer.bias', tensor([0.2060], device='cuda:0'))])"
      ]
     },
     "execution_count": 59,
     "metadata": {},
     "output_type": "execute_result"
    }
   ],
   "source": [
    "model.state_dict()"
   ]
  },
  {
   "cell_type": "markdown",
   "id": "a2666cde-1849-4dc8-a183-21dc0b6f7d71",
   "metadata": {},
   "source": [
    "## Load my model into the deployment"
   ]
  },
  {
   "cell_type": "code",
   "execution_count": 63,
   "id": "7842f06e-fbc9-49ab-a85f-f019e3f6c581",
   "metadata": {},
   "outputs": [
    {
     "data": {
      "text/plain": [
       "<All keys matched successfully>"
      ]
     },
     "execution_count": 63,
     "metadata": {},
     "output_type": "execute_result"
    }
   ],
   "source": [
    "import warnings\n",
    "warnings.filterwarnings('ignore')\n",
    "\n",
    "model.load_state_dict(torch.load(\"Linear_model.pth\"))"
   ]
  },
  {
   "cell_type": "code",
   "execution_count": 64,
   "id": "9176ccc6-89ae-4e5b-882d-e11d61b98248",
   "metadata": {},
   "outputs": [
    {
     "data": {
      "text/plain": [
       "LinearRegression(\n",
       "  (Linear_layer): Linear(in_features=1, out_features=1, bias=True)\n",
       ")"
      ]
     },
     "execution_count": 64,
     "metadata": {},
     "output_type": "execute_result"
    }
   ],
   "source": [
    "model.eval()"
   ]
  }
 ],
 "metadata": {
  "kernelspec": {
   "display_name": "Python [conda env:base] *",
   "language": "python",
   "name": "conda-base-py"
  },
  "language_info": {
   "codemirror_mode": {
    "name": "ipython",
    "version": 3
   },
   "file_extension": ".py",
   "mimetype": "text/x-python",
   "name": "python",
   "nbconvert_exporter": "python",
   "pygments_lexer": "ipython3",
   "version": "3.12.7"
  }
 },
 "nbformat": 4,
 "nbformat_minor": 5
}
