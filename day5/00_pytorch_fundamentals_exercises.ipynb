{
  "cells": [
    {
      "cell_type": "markdown",
      "metadata": {
        "id": "AzDBM_v4iMe7"
      },
      "source": [
        "# 00. PyTorch Fundamentals Exercises\n",
        "\n",
        "### 1. Documentation reading \n",
        "\n",
        "A big part of deep learning (and learning to code in general) is getting familiar with the documentation of a certain framework you're using. We'll be using the PyTorch documentation a lot throughout the rest of this course. So I'd recommend spending 10-minutes reading the following (it's okay if you don't get some things for now, the focus is not yet full understanding, it's awareness):\n",
        "  * The documentation on [`torch.Tensor`](https://pytorch.org/docs/stable/tensors.html#torch-tensor).\n",
        "  * The documentation on [`torch.cuda`](https://pytorch.org/docs/master/notes/cuda.html#cuda-semantics).\n",
        "\n"
      ]
    },
    {
      "cell_type": "code",
      "execution_count": 1,
      "metadata": {
        "id": "bGD0oD8Kizak"
      },
      "outputs": [],
      "source": [
        "# No code solution (reading)"
      ]
    },
    {
      "cell_type": "markdown",
      "metadata": {
        "id": "__iXqqz-ioUJ"
      },
      "source": [
        "### 2. Create a random tensor with shape `(7, 7)`.\n"
      ]
    },
    {
      "cell_type": "code",
      "execution_count": 1,
      "metadata": {
        "id": "6pUq9Dc8i2L7"
      },
      "outputs": [
        {
          "data": {
            "text/plain": [
              "tensor([[0.6822, 0.9180, 0.8195, 0.8144, 0.5085, 0.0336, 0.0957],\n",
              "        [0.3385, 0.5394, 0.4242, 0.2762, 0.9300, 0.9354, 0.9806],\n",
              "        [0.8922, 0.5017, 0.5698, 0.5588, 0.5279, 0.1755, 0.2275],\n",
              "        [0.3968, 0.8893, 0.3686, 0.4041, 0.5301, 0.5769, 0.1961],\n",
              "        [0.4785, 0.9165, 0.3065, 0.6212, 0.1586, 0.0040, 0.1332],\n",
              "        [0.5314, 0.8773, 0.8517, 0.3181, 0.2846, 0.3629, 0.5912],\n",
              "        [0.7877, 0.0061, 0.6114, 0.9734, 0.7012, 0.7586, 0.2609]])"
            ]
          },
          "execution_count": 1,
          "metadata": {},
          "output_type": "execute_result"
        }
      ],
      "source": [
        "# Import torch\n",
        "import torch\n",
        "\n",
        "# Create random tensor\n",
        "tensor_1 = torch.rand(7,7)\n",
        "tensor_1"
      ]
    },
    {
      "cell_type": "markdown",
      "metadata": {
        "id": "9-XxvRLfiqkR"
      },
      "source": [
        "### 3. Perform a matrix multiplication on the tensor from 2 with another random tensor with shape `(1, 7)` (hint: you may have to transpose the second tensor)."
      ]
    },
    {
      "cell_type": "code",
      "execution_count": 2,
      "metadata": {
        "id": "NcLqR0Sbi_vT"
      },
      "outputs": [
        {
          "name": "stdout",
          "output_type": "stream",
          "text": [
            "tensor([[0.9094, 0.4269, 0.8024, 0.6233, 0.4179, 0.4420, 0.0349]])\n",
            "tensor([[0.3582, 0.2859, 0.5134, 0.8180, 0.6370, 0.0238, 0.2338]])\n",
            "tensor([[1.6545]])\n"
          ]
        }
      ],
      "source": [
        "# Create another random tensor\n",
        "tensor = torch.rand(1,7)\n",
        "tensor1 = torch.rand(1,7)\n",
        "print(tensor)\n",
        "print(tensor1)\n",
        "# Perform matrix multiplication \n",
        "\n",
        "matrix = torch.mm(tensor, tensor1.T)\n",
        "print(matrix)\n"
      ]
    },
    {
      "cell_type": "markdown",
      "metadata": {
        "id": "eiutdKUFiryU"
      },
      "source": [
        "### 4. Set the random seed to `0` and do 2 & 3 over again.\n",
        "\n",
        "The output should be:\n",
        "```\n",
        "(tensor([[1.8542],\n",
        "         [1.9611],\n",
        "         [2.2884],\n",
        "         [3.0481],\n",
        "         [1.7067],\n",
        "         [2.5290],\n",
        "         [1.7989]]), torch.Size([7, 1]))\n",
        "```"
      ]
    },
    {
      "cell_type": "code",
      "execution_count": 24,
      "metadata": {
        "id": "D-lOWI_1jRMm"
      },
      "outputs": [
        {
          "data": {
            "text/plain": [
              "tensor([[0.5740, 0.2116, 0.3054, 0.5566, 0.0222, 0.6060, 0.3009],\n",
              "        [0.2116, 0.0780, 0.1126, 0.2052, 0.0082, 0.2234, 0.1109],\n",
              "        [0.3054, 0.1126, 0.1625, 0.2961, 0.0118, 0.3224, 0.1601],\n",
              "        [0.5566, 0.2052, 0.2961, 0.5398, 0.0215, 0.5876, 0.2918],\n",
              "        [0.0222, 0.0082, 0.0118, 0.0215, 0.0009, 0.0234, 0.0116],\n",
              "        [0.6060, 0.2234, 0.3224, 0.5876, 0.0234, 0.6398, 0.3177],\n",
              "        [0.3009, 0.1109, 0.1601, 0.2918, 0.0116, 0.3177, 0.1577]])"
            ]
          },
          "execution_count": 24,
          "metadata": {},
          "output_type": "execute_result"
        }
      ],
      "source": [
        "# Set manual seed\n",
        "seed = 1\n",
        "torch.manual_seed(seed)\n",
        "tensor = torch.rand(7,1)\n",
        "torch.manual_seed(seed)\n",
        "tensor1 = torch.rand(7,1)\n",
        "\n",
        "# Matrix multiply tensor\n",
        "mat = torch.mm(tensor, tensor1.T)\n",
        "mat\n"
      ]
    },
    {
      "cell_type": "markdown",
      "metadata": {
        "id": "ezY6ks9Cis37"
      },
      "source": [
        "### 5. Speaking of random seeds, we saw how to set it with `torch.manual_seed()` but is there a GPU equivalent? (hint: you'll need to look into the documentation for `torch.cuda` for this one)\n",
        "  * If there is, set the GPU random seed to `1234`."
      ]
    },
    {
      "cell_type": "code",
      "execution_count": 66,
      "metadata": {
        "id": "_LKWcfSTjp00"
      },
      "outputs": [],
      "source": [
        "# Set random seed on the GPU\n",
        "seed = 1234\n",
        "tensor = torch.cuda.manual_seed(seed)\n",
        "tensor\n"
      ]
    },
    {
      "cell_type": "markdown",
      "metadata": {
        "id": "Ir9qSaj6it4n"
      },
      "source": [
        "\n",
        "### 6. Create two random tensors of shape `(2, 3)` and send them both to the GPU (you'll need access to a GPU for this). Set `torch.manual_seed(1234)` when creating the tensors (this doesn't have to be the GPU random seed). The output should be something like:\n",
        "\n",
        "```\n",
        "Device: cuda\n",
        "(tensor([[0.0290, 0.4019, 0.2598],\n",
        "         [0.3666, 0.0583, 0.7006]], device='cuda:0'),\n",
        " tensor([[0.0518, 0.4681, 0.6738],\n",
        "         [0.3315, 0.7837, 0.5631]], device='cuda:0'))\n",
        "```"
      ]
    },
    {
      "cell_type": "code",
      "execution_count": 34,
      "metadata": {
        "id": "azXExiFZj5nm"
      },
      "outputs": [
        {
          "name": "stdout",
          "output_type": "stream",
          "text": [
            "Device:  cuda\n",
            "tensor([[0.7718, 0.0112],\n",
            "        [0.8100, 0.6397]], device='cuda:0')\n",
            "tensor([[0.9743, 0.8300],\n",
            "        [0.0444, 0.0246]], device='cuda:0')\n"
          ]
        }
      ],
      "source": [
        "# Set random seed\n",
        "seed = 42\n",
        "device = \"cuda\" if torch.cuda.is_available() else \"CPU\"\n",
        "\n",
        "\n",
        "# Check for access to GPU\n",
        "\n",
        "# Create two random tensors on GPU\n",
        "\n",
        "tensor = torch.rand(2,2).to(device)\n",
        "tensor1 = torch.rand(2,2).to(device)\n",
        "print(\"Device: \",device)\n",
        "print(tensor)\n",
        "print(tensor1)"
      ]
    },
    {
      "cell_type": "markdown",
      "metadata": {
        "id": "5TlAxeiSiu1y"
      },
      "source": [
        "\n",
        "### 7. Perform a matrix multiplication on the tensors you created in 6 (again, you may have to adjust the shapes of one of the tensors).\n",
        "\n",
        "The output should look like:\n",
        "```\n",
        "(tensor([[0.3647, 0.4709],\n",
        "         [0.5184, 0.5617]], device='cuda:0'), torch.Size([2, 2]))\n",
        "```"
      ]
    },
    {
      "cell_type": "code",
      "execution_count": 46,
      "metadata": {
        "id": "fAeG7ox0lHEO"
      },
      "outputs": [
        {
          "name": "stdout",
          "output_type": "stream",
          "text": [
            "tensor([[0.2130, 0.1142],\n",
            "        [0.3237, 0.1812]], device='cuda:0') torch.Size([2, 2])\n",
            "tensor([[0.5351, 0.5209],\n",
            "        [0.4846, 0.3756]], device='cuda:0') torch.Size([2, 2])\n",
            "tensor([[0.1573, 0.1358],\n",
            "        [0.9151, 0.6419]], device='cuda:0') torch.Size([2, 2])\n"
          ]
        }
      ],
      "source": [
        "# Perform matmul on tensor_A and tensor_B\n",
        "\n",
        "tensor_A = torch.rand(2,2)\n",
        "tensor_B = torch.rand(2,2)\n",
        "tensor_C = torch.rand(2,2)\n",
        "tensor_D = torch.rand(2,2)\n",
        "tensor_E = torch.rand(2,2)\n",
        "tensor_F = torch.rand(2,2)\n",
        "\n",
        "m1 = torch.mm(tensor_A, tensor_B).to(device)\n",
        "m2 = torch.mm(tensor_C, tensor_D).to(device)\n",
        "m3 = torch.mm(tensor_E, tensor_F).cuda()\n",
        "print(m1, m1.shape)\n",
        "print(m2, m2.shape)\n",
        "print(m3, m3.shape)"
      ]
    },
    {
      "cell_type": "markdown",
      "metadata": {
        "id": "G7qfa5CSivwg"
      },
      "source": [
        "### 8. Find the maximum and minimum values of the output of 7."
      ]
    },
    {
      "cell_type": "code",
      "execution_count": 54,
      "metadata": {
        "id": "Fu8_3mZpllOd"
      },
      "outputs": [
        {
          "name": "stdout",
          "output_type": "stream",
          "text": [
            "max:  tensor(6) tensor(6)\n",
            "Min: tensor(0) tensor(0)\n"
          ]
        }
      ],
      "source": [
        "x = torch.arange(0,7)\n",
        "x\n",
        "\n",
        "# Find max\n",
        "print(\"max: \",x.max(), max(x))\n",
        "\n",
        "\n",
        "# Find min\n",
        "print(\"Min:\", x.min(), min(x))"
      ]
    },
    {
      "cell_type": "markdown",
      "metadata": {
        "id": "wrTj5FgNiw47"
      },
      "source": [
        "### 9. Find the maximum and minimum index values of the output of 7."
      ]
    },
    {
      "cell_type": "code",
      "execution_count": 57,
      "metadata": {
        "id": "CCEKt4K2lsfQ"
      },
      "outputs": [
        {
          "name": "stdout",
          "output_type": "stream",
          "text": [
            "tensor(6)\n",
            "tensor(0)\n"
          ]
        }
      ],
      "source": [
        "# Find arg max\n",
        "print(x.argmax())\n",
        "\n",
        "# Find arg min\n",
        "print(x.argmin())\n"
      ]
    },
    {
      "cell_type": "markdown",
      "metadata": {
        "id": "hmeybz4uixy7"
      },
      "source": [
        "\n",
        "### 10. Make a random tensor with shape `(1, 1, 1, 10)` and then create a new tensor with all the `1` dimensions removed to be left with a tensor of shape `(10)`. Set the seed to `7` when you create it and print out the first tensor and it's shape as well as the second tensor and it's shape.\n",
        "\n",
        "The output should look like:\n",
        "\n",
        "```\n",
        "tensor([[[[0.5349, 0.1988, 0.6592, 0.6569, 0.2328, 0.4251, 0.2071, 0.6297,\n",
        "           0.3653, 0.8513]]]]) torch.Size([1, 1, 1, 10])\n",
        "tensor([0.5349, 0.1988, 0.6592, 0.6569, 0.2328, 0.4251, 0.2071, 0.6297, 0.3653,\n",
        "        0.8513]) torch.Size([10])\n",
        "```"
      ]
    },
    {
      "cell_type": "code",
      "execution_count": 65,
      "metadata": {
        "id": "TQ9zbRzVl1jV"
      },
      "outputs": [
        {
          "name": "stdout",
          "output_type": "stream",
          "text": [
            "tensor([0.2636, 0.9967, 0.5107, 0.8953, 0.6219, 0.9482, 0.7885, 0.2451, 0.8512,\n",
            "        0.5032]) torch.Size([10])\n"
          ]
        }
      ],
      "source": [
        "# Set seed\n",
        "seed = 7\n",
        "\n",
        "\n",
        "# Create random tensor\n",
        "tensor = torch.rand(1, 1, 1, 10)\n",
        "tensor\n",
        "\n",
        "\n",
        "# Remove single dimensions\n",
        "squeezing = torch.squeeze(tensor)\n",
        "squeezing\n",
        "\n",
        "\n",
        "# Print out tensors and their shapes\n",
        "print(squeezing, squeezing.shape)\n"
      ]
    }
  ],
  "metadata": {
    "accelerator": "GPU",
    "colab": {
      "collapsed_sections": [],
      "name": "00_pytorch_fundamentals_exercises.ipynb",
      "provenance": []
    },
    "kernelspec": {
      "display_name": "base",
      "language": "python",
      "name": "python3"
    },
    "language_info": {
      "codemirror_mode": {
        "name": "ipython",
        "version": 3
      },
      "file_extension": ".py",
      "mimetype": "text/x-python",
      "name": "python",
      "nbconvert_exporter": "python",
      "pygments_lexer": "ipython3",
      "version": "3.12.7"
    }
  },
  "nbformat": 4,
  "nbformat_minor": 0
}
