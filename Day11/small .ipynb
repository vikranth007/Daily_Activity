{
 "cells": [
  {
   "cell_type": "code",
   "execution_count": 76,
   "id": "bf6d11ef-7c13-47ce-9363-2d62c04aca91",
   "metadata": {},
   "outputs": [
    {
     "data": {
      "text/plain": [
       "'cuda'"
      ]
     },
     "execution_count": 76,
     "metadata": {},
     "output_type": "execute_result"
    }
   ],
   "source": [
    "import torch\n",
    "from torch import  nn\n",
    "\n",
    "\n",
    "device = \"cuda\" if torch.cuda.is_available() else \"cpu\"\n",
    "device"
   ]
  },
  {
   "cell_type": "code",
   "execution_count": 77,
   "id": "c988350b-b9e3-4df0-abf3-091311505840",
   "metadata": {},
   "outputs": [
    {
     "data": {
      "text/plain": [
       "(80, 80, 20, 20)"
      ]
     },
     "execution_count": 77,
     "metadata": {},
     "output_type": "execute_result"
    }
   ],
   "source": [
    "w = 0.7\n",
    "b = 0.3\n",
    "start = 0\n",
    "end = 1\n",
    "step =0.01\n",
    "x = torch.arange(start, end, step).unsqueeze(dim=1)\n",
    "y = w * x + b\n",
    "\n",
    "\n",
    "train_split = int(0.8 * len(x))\n",
    "X_train, y_train = x[:train_split], y[:train_split]\n",
    "X_test, y_test  = x[train_split:], y[train_split:]\n",
    "\n",
    "len(X_train), len(y_train), len(X_test), len(y_test)"
   ]
  },
  {
   "cell_type": "code",
   "execution_count": 83,
   "id": "2cfd5095-28c5-4ce5-8f89-f9f0b62867dc",
   "metadata": {},
   "outputs": [
    {
     "data": {
      "text/plain": [
       "Circle_model1(\n",
       "  (layer1): Linear(in_features=1, out_features=10, bias=True)\n",
       "  (layer2): Linear(in_features=10, out_features=10, bias=True)\n",
       "  (layer3): Linear(in_features=10, out_features=1, bias=True)\n",
       ")"
      ]
     },
     "execution_count": 83,
     "metadata": {},
     "output_type": "execute_result"
    }
   ],
   "source": [
    "class Circle_model1(nn.Module):\n",
    "    def __init__(self):\n",
    "        super().__init__()\n",
    "        self.layer1 = nn.Linear(in_features=1, out_features=10)\n",
    "        self.layer2 = nn.Linear(in_features=10, out_features=10)\n",
    "        self.layer3 = nn.Linear(in_features=10, out_features=1)\n",
    "\n",
    "    def forward(self, x):\n",
    "        # z = self.layer1(x)\n",
    "        # z = self.layer2(z)\n",
    "        # z = self.layer3(z)\n",
    "        return self.layer3(self.layer2(self.layer1(x)))\n",
    "\n",
    "model = Circle_model1().to(device)\n",
    "model"
   ]
  },
  {
   "cell_type": "code",
   "execution_count": 84,
   "id": "4f9973d4-fc94-468c-bf2a-cd403f7fb5cd",
   "metadata": {},
   "outputs": [
    {
     "data": {
      "text/plain": [
       "Sequential(\n",
       "  (0): Linear(in_features=1, out_features=10, bias=True)\n",
       "  (1): Linear(in_features=10, out_features=10, bias=True)\n",
       "  (2): Linear(in_features=10, out_features=1, bias=True)\n",
       ")"
      ]
     },
     "execution_count": 84,
     "metadata": {},
     "output_type": "execute_result"
    }
   ],
   "source": [
    "model1 = nn.Sequential(\n",
    "    nn.Linear(in_features= 1, out_features=10),\n",
    "    nn.Linear(in_features=10, out_features=10),\n",
    "    nn.Linear(in_features=10, out_features=1)\n",
    "    \n",
    ").to(device)\n",
    "\n",
    "model1"
   ]
  },
  {
   "cell_type": "code",
   "execution_count": 85,
   "id": "6c03a92c-117a-4b28-ab26-4b4615c33e5f",
   "metadata": {},
   "outputs": [],
   "source": [
    "loss_fn = nn.L1Loss()\n",
    "optimizer = torch.optim.SGD(params=model1.parameters(), lr=0.1)"
   ]
  },
  {
   "cell_type": "code",
   "execution_count": 86,
   "id": "cf455619-1393-4695-9c48-01da5967a436",
   "metadata": {},
   "outputs": [
    {
     "name": "stdout",
     "output_type": "stream",
     "text": [
      "epoch : 0 | train loss : 0.8686561584472656 | test loss : 1.266422152519226\n",
      "epoch : 100 | train loss : 0.8686561584472656 | test loss : 1.266422152519226\n",
      "epoch : 200 | train loss : 0.8686561584472656 | test loss : 1.266422152519226\n",
      "epoch : 300 | train loss : 0.8686561584472656 | test loss : 1.266422152519226\n",
      "epoch : 400 | train loss : 0.8686561584472656 | test loss : 1.266422152519226\n",
      "epoch : 500 | train loss : 0.8686561584472656 | test loss : 1.266422152519226\n",
      "epoch : 600 | train loss : 0.8686561584472656 | test loss : 1.266422152519226\n",
      "epoch : 700 | train loss : 0.8686561584472656 | test loss : 1.266422152519226\n",
      "epoch : 800 | train loss : 0.8686561584472656 | test loss : 1.266422152519226\n",
      "epoch : 900 | train loss : 0.8686561584472656 | test loss : 1.266422152519226\n"
     ]
    }
   ],
   "source": [
    "torch.manual_seed(42)\n",
    "torch.cuda.manual_seed(42)\n",
    "\n",
    "epochs = 1000\n",
    "\n",
    "X_train, y_train = X_train.to(device), y_train.to(device)\n",
    "X_test, y_test = X_test.to(device), y_test.to(device)\n",
    "\n",
    "for epoch in range(epochs):\n",
    "\n",
    "    model.train()\n",
    "\n",
    "    y_pred = model(X_train)\n",
    "\n",
    "    loss = loss_fn(y_pred, y_train)\n",
    "    \n",
    "\n",
    "    optimizer.zero_grad()\n",
    "\n",
    "    loss.backward()\n",
    "\n",
    "    optimizer.step()\n",
    "\n",
    "    # testing\n",
    "    model.eval()\n",
    "    with torch.inference_mode():\n",
    "        test_pred = model(X_test)\n",
    "        test_loss = loss_fn(test_pred, y_test)\n",
    "\n",
    "    if epoch % 100 == 0:\n",
    "        print(f\"epoch : {epoch} | train loss : {loss} | test loss : {test_loss}\")\n"
   ]
  },
  {
   "cell_type": "code",
   "execution_count": null,
   "id": "d3abf64f-5a29-46d5-be86-f8f82570b1aa",
   "metadata": {},
   "outputs": [],
   "source": []
  }
 ],
 "metadata": {
  "kernelspec": {
   "display_name": "Python [conda env:base] *",
   "language": "python",
   "name": "conda-base-py"
  },
  "language_info": {
   "codemirror_mode": {
    "name": "ipython",
    "version": 3
   },
   "file_extension": ".py",
   "mimetype": "text/x-python",
   "name": "python",
   "nbconvert_exporter": "python",
   "pygments_lexer": "ipython3",
   "version": "3.12.7"
  }
 },
 "nbformat": 4,
 "nbformat_minor": 5
}
