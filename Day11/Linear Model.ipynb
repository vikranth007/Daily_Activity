{
 "cells": [
  {
   "cell_type": "code",
   "execution_count": 1,
   "id": "3fddfe68-571e-4d1e-9b44-ced187cc8a48",
   "metadata": {},
   "outputs": [],
   "source": [
    "import torch\n",
    "from torch import nn"
   ]
  },
  {
   "cell_type": "code",
   "execution_count": 2,
   "id": "505241b6-9adc-4b0e-b077-2bdd4209cbe0",
   "metadata": {},
   "outputs": [],
   "source": [
    "w = 0.7\n",
    "b = 0.3\n",
    "\n",
    "\n",
    "x = torch.arange(0, 1, 0.02).unsqueeze(dim=1)\n",
    "y = w * x + b"
   ]
  },
  {
   "cell_type": "code",
   "execution_count": 3,
   "id": "42eb1b4a-0b04-4c2c-b724-e866bf77a740",
   "metadata": {},
   "outputs": [],
   "source": [
    "train_split = int(0.8 * len(x))\n",
    "\n",
    "X_train, y_train = x[:train_split], y[:train_split]\n",
    "X_test, y_test = x[train_split:], y[train_split:]"
   ]
  },
  {
   "cell_type": "code",
   "execution_count": 4,
   "id": "cffd5272-6577-4f13-bed9-fdce20d82f36",
   "metadata": {},
   "outputs": [
    {
     "data": {
      "text/plain": [
       "(40, 10, 10, 40)"
      ]
     },
     "execution_count": 4,
     "metadata": {},
     "output_type": "execute_result"
    }
   ],
   "source": [
    "len(X_train), len(X_test), len(y_test), len(y_train)"
   ]
  },
  {
   "cell_type": "code",
   "execution_count": 5,
   "id": "d31daa64-99d9-425b-a357-858b232be9c6",
   "metadata": {},
   "outputs": [],
   "source": [
    "class LinearModel(nn.Module):\n",
    "    def __init__(self):\n",
    "        super().__init__()\n",
    "        self.linear_layer = nn.Linear(in_features=1, out_features=1)\n",
    "\n",
    "    def forward(self,x):\n",
    "        return self.linear_layer(x)"
   ]
  },
  {
   "cell_type": "code",
   "execution_count": 6,
   "id": "afecd7b8-7bd5-454c-9e04-230632c054fe",
   "metadata": {},
   "outputs": [],
   "source": [
    "model = LinearModel()"
   ]
  },
  {
   "cell_type": "code",
   "execution_count": 7,
   "id": "c0210251-0ce1-468f-98dd-34ad26320b38",
   "metadata": {},
   "outputs": [],
   "source": [
    "device = \"cuda\" if torch.cuda.is_available() else \"cpu\""
   ]
  },
  {
   "cell_type": "code",
   "execution_count": 8,
   "id": "3cd8050a-cf9c-4632-9752-306133ccb248",
   "metadata": {},
   "outputs": [
    {
     "data": {
      "text/plain": [
       "(LinearModel(\n",
       "   (linear_layer): Linear(in_features=1, out_features=1, bias=True)\n",
       " ),\n",
       " OrderedDict([('linear_layer.weight', tensor([[-0.0131]], device='cuda:0')),\n",
       "              ('linear_layer.bias', tensor([0.3013], device='cuda:0'))]))"
      ]
     },
     "execution_count": 8,
     "metadata": {},
     "output_type": "execute_result"
    }
   ],
   "source": [
    "model.to(device), model.state_dict()"
   ]
  },
  {
   "cell_type": "code",
   "execution_count": 9,
   "id": "ec2f78e3-af84-4832-960d-053c2da01af9",
   "metadata": {},
   "outputs": [],
   "source": [
    "loss_fn = nn.L1Loss()"
   ]
  },
  {
   "cell_type": "code",
   "execution_count": 10,
   "id": "743ae750-a91d-4eaa-9c2b-9505c61e4b54",
   "metadata": {},
   "outputs": [],
   "source": [
    "optimizer = torch.optim.SGD(params=model.parameters(), lr=0.01)"
   ]
  },
  {
   "cell_type": "code",
   "execution_count": 11,
   "id": "4dd473ec-e8e4-4421-80ad-b6be5b0189c8",
   "metadata": {},
   "outputs": [],
   "source": [
    "X_train = X_train.to(device)\n",
    "X_test = X_test.to(device)\n",
    "y_train = y_train.to(device)\n",
    "y_test = y_test.to(device)"
   ]
  },
  {
   "cell_type": "code",
   "execution_count": 12,
   "id": "870c5cb0-0f60-4d7e-928c-d798cb4acfa0",
   "metadata": {},
   "outputs": [
    {
     "name": "stdout",
     "output_type": "stream",
     "text": [
      "epoch : 0 | train_loss: 0.2768397033214569 | test_loss: 0.620358407497406\n",
      "epoch : 10 | train_loss: 0.19446852803230286 | test_loss: 0.5068603754043579\n",
      "epoch : 20 | train_loss: 0.15172143280506134 | test_loss: 0.4227460026741028\n",
      "epoch : 30 | train_loss: 0.12989185750484467 | test_loss: 0.362467497587204\n",
      "epoch : 40 | train_loss: 0.1185697540640831 | test_loss: 0.31974002718925476\n",
      "epoch : 50 | train_loss: 0.11192309111356735 | test_loss: 0.2899763286113739\n",
      "epoch : 60 | train_loss: 0.10725470632314682 | test_loss: 0.2681615948677063\n",
      "epoch : 70 | train_loss: 0.1033073216676712 | test_loss: 0.25171762704849243\n",
      "epoch : 80 | train_loss: 0.09981730580329895 | test_loss: 0.24069786071777344\n",
      "epoch : 90 | train_loss: 0.09632731229066849 | test_loss: 0.22967782616615295\n",
      "epoch : 100 | train_loss: 0.09283730387687683 | test_loss: 0.21865776181221008\n",
      "epoch : 110 | train_loss: 0.0893554612994194 | test_loss: 0.2083245813846588\n",
      "epoch : 120 | train_loss: 0.08592130988836288 | test_loss: 0.20005202293395996\n",
      "epoch : 130 | train_loss: 0.08248250931501389 | test_loss: 0.1917794942855835\n",
      "epoch : 140 | train_loss: 0.07905352115631104 | test_loss: 0.18419383466243744\n",
      "epoch : 150 | train_loss: 0.07561768591403961 | test_loss: 0.17592130601406097\n",
      "epoch : 160 | train_loss: 0.07218003273010254 | test_loss: 0.16833563148975372\n",
      "epoch : 170 | train_loss: 0.06875159591436386 | test_loss: 0.16006310284137726\n",
      "epoch : 180 | train_loss: 0.06531406193971634 | test_loss: 0.1517905443906784\n",
      "epoch : 190 | train_loss: 0.06187809631228447 | test_loss: 0.14420488476753235\n",
      "epoch : 200 | train_loss: 0.05844924971461296 | test_loss: 0.13593235611915588\n",
      "epoch : 210 | train_loss: 0.05501044914126396 | test_loss: 0.12765979766845703\n",
      "epoch : 220 | train_loss: 0.051576167345047 | test_loss: 0.12007414549589157\n",
      "epoch : 230 | train_loss: 0.048145633190870285 | test_loss: 0.1118016168475151\n",
      "epoch : 240 | train_loss: 0.04470682889223099 | test_loss: 0.10352905094623566\n",
      "epoch : 250 | train_loss: 0.041274234652519226 | test_loss: 0.0959433987736702\n",
      "epoch : 260 | train_loss: 0.03784201666712761 | test_loss: 0.08767088502645493\n",
      "epoch : 270 | train_loss: 0.03440321236848831 | test_loss: 0.07939833402633667\n",
      "epoch : 280 | train_loss: 0.030972307547926903 | test_loss: 0.0718126893043518\n",
      "epoch : 290 | train_loss: 0.027538394555449486 | test_loss: 0.06354014575481415\n",
      "epoch : 300 | train_loss: 0.024099593982100487 | test_loss: 0.05526760220527649\n",
      "epoch : 310 | train_loss: 0.02067037671804428 | test_loss: 0.047681938856840134\n",
      "epoch : 320 | train_loss: 0.01723477803170681 | test_loss: 0.03940939903259277\n",
      "epoch : 330 | train_loss: 0.01379688736051321 | test_loss: 0.031823743134737015\n",
      "epoch : 340 | train_loss: 0.01036844588816166 | test_loss: 0.023551195859909058\n",
      "epoch : 350 | train_loss: 0.006931159645318985 | test_loss: 0.015278667211532593\n",
      "epoch : 360 | train_loss: 0.003494954900816083 | test_loss: 0.007692998740822077\n",
      "epoch : 370 | train_loss: 0.003133997321128845 | test_loss: 0.007801020052284002\n",
      "epoch : 380 | train_loss: 0.003133997321128845 | test_loss: 0.007801020052284002\n",
      "epoch : 390 | train_loss: 0.003133997321128845 | test_loss: 0.007801020052284002\n",
      "epoch : 400 | train_loss: 0.003133997321128845 | test_loss: 0.007801020052284002\n",
      "epoch : 410 | train_loss: 0.003133997321128845 | test_loss: 0.007801020052284002\n",
      "epoch : 420 | train_loss: 0.003133997321128845 | test_loss: 0.007801020052284002\n",
      "epoch : 430 | train_loss: 0.003133997321128845 | test_loss: 0.007801020052284002\n",
      "epoch : 440 | train_loss: 0.003133997321128845 | test_loss: 0.007801020052284002\n",
      "epoch : 450 | train_loss: 0.003133997321128845 | test_loss: 0.007801020052284002\n",
      "epoch : 460 | train_loss: 0.003133997321128845 | test_loss: 0.007801020052284002\n",
      "epoch : 470 | train_loss: 0.003133997321128845 | test_loss: 0.007801020052284002\n",
      "epoch : 480 | train_loss: 0.003133997321128845 | test_loss: 0.007801020052284002\n",
      "epoch : 490 | train_loss: 0.003133997321128845 | test_loss: 0.007801020052284002\n",
      "epoch : 500 | train_loss: 0.003133997321128845 | test_loss: 0.007801020052284002\n",
      "epoch : 510 | train_loss: 0.003133997321128845 | test_loss: 0.007801020052284002\n",
      "epoch : 520 | train_loss: 0.003133997321128845 | test_loss: 0.007801020052284002\n",
      "epoch : 530 | train_loss: 0.003133997321128845 | test_loss: 0.007801020052284002\n",
      "epoch : 540 | train_loss: 0.003133997321128845 | test_loss: 0.007801020052284002\n",
      "epoch : 550 | train_loss: 0.003133997321128845 | test_loss: 0.007801020052284002\n",
      "epoch : 560 | train_loss: 0.003133997321128845 | test_loss: 0.007801020052284002\n",
      "epoch : 570 | train_loss: 0.003133997321128845 | test_loss: 0.007801020052284002\n",
      "epoch : 580 | train_loss: 0.003133997321128845 | test_loss: 0.007801020052284002\n",
      "epoch : 590 | train_loss: 0.003133997321128845 | test_loss: 0.007801020052284002\n",
      "epoch : 600 | train_loss: 0.003133997321128845 | test_loss: 0.007801020052284002\n",
      "epoch : 610 | train_loss: 0.003133997321128845 | test_loss: 0.007801020052284002\n",
      "epoch : 620 | train_loss: 0.003133997321128845 | test_loss: 0.007801020052284002\n",
      "epoch : 630 | train_loss: 0.003133997321128845 | test_loss: 0.007801020052284002\n",
      "epoch : 640 | train_loss: 0.003133997321128845 | test_loss: 0.007801020052284002\n",
      "epoch : 650 | train_loss: 0.003133997321128845 | test_loss: 0.007801020052284002\n",
      "epoch : 660 | train_loss: 0.003133997321128845 | test_loss: 0.007801020052284002\n",
      "epoch : 670 | train_loss: 0.003133997321128845 | test_loss: 0.007801020052284002\n",
      "epoch : 680 | train_loss: 0.003133997321128845 | test_loss: 0.007801020052284002\n",
      "epoch : 690 | train_loss: 0.003133997321128845 | test_loss: 0.007801020052284002\n",
      "epoch : 700 | train_loss: 0.003133997321128845 | test_loss: 0.007801020052284002\n",
      "epoch : 710 | train_loss: 0.003133997321128845 | test_loss: 0.007801020052284002\n",
      "epoch : 720 | train_loss: 0.003133997321128845 | test_loss: 0.007801020052284002\n",
      "epoch : 730 | train_loss: 0.003133997321128845 | test_loss: 0.007801020052284002\n",
      "epoch : 740 | train_loss: 0.003133997321128845 | test_loss: 0.007801020052284002\n",
      "epoch : 750 | train_loss: 0.003133997321128845 | test_loss: 0.007801020052284002\n",
      "epoch : 760 | train_loss: 0.003133997321128845 | test_loss: 0.007801020052284002\n",
      "epoch : 770 | train_loss: 0.003133997321128845 | test_loss: 0.007801020052284002\n",
      "epoch : 780 | train_loss: 0.003133997321128845 | test_loss: 0.007801020052284002\n",
      "epoch : 790 | train_loss: 0.003133997321128845 | test_loss: 0.007801020052284002\n",
      "epoch : 800 | train_loss: 0.003133997321128845 | test_loss: 0.007801020052284002\n",
      "epoch : 810 | train_loss: 0.003133997321128845 | test_loss: 0.007801020052284002\n",
      "epoch : 820 | train_loss: 0.003133997321128845 | test_loss: 0.007801020052284002\n",
      "epoch : 830 | train_loss: 0.003133997321128845 | test_loss: 0.007801020052284002\n",
      "epoch : 840 | train_loss: 0.003133997321128845 | test_loss: 0.007801020052284002\n",
      "epoch : 850 | train_loss: 0.003133997321128845 | test_loss: 0.007801020052284002\n",
      "epoch : 860 | train_loss: 0.003133997321128845 | test_loss: 0.007801020052284002\n",
      "epoch : 870 | train_loss: 0.003133997321128845 | test_loss: 0.007801020052284002\n",
      "epoch : 880 | train_loss: 0.003133997321128845 | test_loss: 0.007801020052284002\n",
      "epoch : 890 | train_loss: 0.003133997321128845 | test_loss: 0.007801020052284002\n",
      "epoch : 900 | train_loss: 0.003133997321128845 | test_loss: 0.007801020052284002\n",
      "epoch : 910 | train_loss: 0.003133997321128845 | test_loss: 0.007801020052284002\n",
      "epoch : 920 | train_loss: 0.003133997321128845 | test_loss: 0.007801020052284002\n",
      "epoch : 930 | train_loss: 0.003133997321128845 | test_loss: 0.007801020052284002\n",
      "epoch : 940 | train_loss: 0.003133997321128845 | test_loss: 0.007801020052284002\n",
      "epoch : 950 | train_loss: 0.003133997321128845 | test_loss: 0.007801020052284002\n",
      "epoch : 960 | train_loss: 0.003133997321128845 | test_loss: 0.007801020052284002\n",
      "epoch : 970 | train_loss: 0.003133997321128845 | test_loss: 0.007801020052284002\n",
      "epoch : 980 | train_loss: 0.003133997321128845 | test_loss: 0.007801020052284002\n",
      "epoch : 990 | train_loss: 0.003133997321128845 | test_loss: 0.007801020052284002\n"
     ]
    }
   ],
   "source": [
    "torch.manual_seed(42)\n",
    "\n",
    "epochs = 1000\n",
    "\n",
    "for epoch in range(epochs):\n",
    "\n",
    "    model.train()\n",
    "\n",
    "    y_pred = model(X_train)\n",
    "\n",
    "    loss = loss_fn(y_pred, y_train)\n",
    "\n",
    "    optimizer.zero_grad()\n",
    "\n",
    "    loss.backward()\n",
    "\n",
    "    optimizer.step()\n",
    "\n",
    "\n",
    "    model.eval()\n",
    "\n",
    "    with torch.no_grad():\n",
    "        test_pred = model(X_test)\n",
    "        \n",
    "        test_loss = loss_fn(test_pred, y_test)\n",
    "\n",
    "    if epoch % 10 == 0:\n",
    "        print(f\"epoch : {epoch} | train_loss: {loss} | test_loss: {test_loss}\")"
   ]
  },
  {
   "cell_type": "markdown",
   "id": "fedd6728-3773-4ab3-92a9-5c11dcec80d5",
   "metadata": {},
   "source": [
    "from helper_functions import plot_predictions, plot_decision_boundary"
   ]
  },
  {
   "cell_type": "code",
   "execution_count": null,
   "id": "79acabea-c4c5-4758-bc51-2742433cda68",
   "metadata": {},
   "outputs": [
    {
     "ename": "IndexError",
     "evalue": "index 1 is out of bounds for dimension 1 with size 1",
     "output_type": "error",
     "traceback": [
      "\u001b[1;31m---------------------------------------------------------------------------\u001b[0m",
      "\u001b[1;31mIndexError\u001b[0m                                Traceback (most recent call last)",
      "Cell \u001b[1;32mIn[19], line 4\u001b[0m\n\u001b[0;32m      2\u001b[0m plt\u001b[38;5;241m.\u001b[39msubplot(\u001b[38;5;241m1\u001b[39m, \u001b[38;5;241m2\u001b[39m,\u001b[38;5;241m1\u001b[39m)\n\u001b[0;32m      3\u001b[0m plt\u001b[38;5;241m.\u001b[39mtitle(\u001b[38;5;124m\"\u001b[39m\u001b[38;5;124mTrain\u001b[39m\u001b[38;5;124m\"\u001b[39m) \n\u001b[1;32m----> 4\u001b[0m plot_decision_boundary(model, X_train, y_train)\n\u001b[0;32m      5\u001b[0m plt\u001b[38;5;241m.\u001b[39msubplot(\u001b[38;5;241m1\u001b[39m, \u001b[38;5;241m2\u001b[39m, \u001b[38;5;241m2\u001b[39m)\n\u001b[0;32m      6\u001b[0m plt\u001b[38;5;241m.\u001b[39mtitle(\u001b[38;5;124m\"\u001b[39m\u001b[38;5;124mTest\u001b[39m\u001b[38;5;124m\"\u001b[39m)\n",
      "File \u001b[1;32mD:\\Daily Active\\Day11\\helper_functions.py:49\u001b[0m, in \u001b[0;36mplot_decision_boundary\u001b[1;34m(model, X, y)\u001b[0m\n\u001b[0;32m     47\u001b[0m \u001b[38;5;66;03m# Setup prediction boundaries and grid\u001b[39;00m\n\u001b[0;32m     48\u001b[0m x_min, x_max \u001b[38;5;241m=\u001b[39m X[:, \u001b[38;5;241m0\u001b[39m]\u001b[38;5;241m.\u001b[39mmin() \u001b[38;5;241m-\u001b[39m \u001b[38;5;241m0.1\u001b[39m, X[:, \u001b[38;5;241m0\u001b[39m]\u001b[38;5;241m.\u001b[39mmax() \u001b[38;5;241m+\u001b[39m \u001b[38;5;241m0.1\u001b[39m\n\u001b[1;32m---> 49\u001b[0m y_min, y_max \u001b[38;5;241m=\u001b[39m X[:, \u001b[38;5;241m1\u001b[39m]\u001b[38;5;241m.\u001b[39mmin() \u001b[38;5;241m-\u001b[39m \u001b[38;5;241m0.1\u001b[39m, X[:, \u001b[38;5;241m1\u001b[39m]\u001b[38;5;241m.\u001b[39mmax() \u001b[38;5;241m+\u001b[39m \u001b[38;5;241m0.1\u001b[39m\n\u001b[0;32m     50\u001b[0m xx, yy \u001b[38;5;241m=\u001b[39m np\u001b[38;5;241m.\u001b[39mmeshgrid(np\u001b[38;5;241m.\u001b[39mlinspace(x_min, x_max, \u001b[38;5;241m101\u001b[39m), np\u001b[38;5;241m.\u001b[39mlinspace(y_min, y_max, \u001b[38;5;241m101\u001b[39m))\n\u001b[0;32m     52\u001b[0m \u001b[38;5;66;03m# Make features\u001b[39;00m\n",
      "\u001b[1;31mIndexError\u001b[0m: index 1 is out of bounds for dimension 1 with size 1"
     ]
    }
   ],
   "source": [
    "plt.figure(figsize=(12, 6))\n",
    "plt.subplot(1, 2,1)\n",
    "plt.title(\"Train\") \n",
    "plot_decision_boundary(model, X_train, y_train)\n",
    "plt.subplot(1, 2, 2)\n",
    "plt.title(\"Test\")\n",
    "plot_decision_boundary(model, X_test, y_test)"
   ]
  },
  {
   "cell_type": "code",
   "execution_count": 18,
   "id": "68716265-e5c3-44df-bc89-aa74224d1567",
   "metadata": {},
   "outputs": [],
   "source": [
    "import matplotlib.pyplot as plt"
   ]
  }
 ],
 "metadata": {
  "kernelspec": {
   "display_name": "Python [conda env:base] *",
   "language": "python",
   "name": "conda-base-py"
  },
  "language_info": {
   "codemirror_mode": {
    "name": "ipython",
    "version": 3
   },
   "file_extension": ".py",
   "mimetype": "text/x-python",
   "name": "python",
   "nbconvert_exporter": "python",
   "pygments_lexer": "ipython3",
   "version": "3.12.7"
  }
 },
 "nbformat": 4,
 "nbformat_minor": 5
}
